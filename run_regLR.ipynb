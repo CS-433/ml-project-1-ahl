{
 "cells": [
  {
   "cell_type": "code",
   "execution_count": 22,
   "id": "5617e344-c0c0-4bd9-a663-3cbb48c42afb",
   "metadata": {},
   "outputs": [
    {
     "name": "stdout",
     "output_type": "stream",
     "text": [
      "The autoreload extension is already loaded. To reload it, use:\n",
      "  %reload_ext autoreload\n"
     ]
    }
   ],
   "source": [
    "import numpy as np \n",
    "from implementations import *\n",
    "from helpers import *\n",
    "from helper_functions import *\n",
    "from optimization import *\n",
    "%load_ext autoreload\n",
    "%autoreload 2"
   ]
  },
  {
   "cell_type": "code",
   "execution_count": 23,
   "id": "8dc3d956-5298-48d9-80ea-28ab9505cf2f",
   "metadata": {},
   "outputs": [
    {
     "name": "stdout",
     "output_type": "stream",
     "text": [
      "loading the training dataset\n",
      "training dataset loaded\n"
     ]
    }
   ],
   "source": [
    "# load the training dataset\n",
    "print(\"loading the training dataset\")\n",
    "DATA_TRAIN_PATH = 'train.csv'\n",
    "y_tr, tx_tr, ids_tr = load_csv_data(DATA_TRAIN_PATH)\n",
    "print(\"training dataset loaded\")"
   ]
  },
  {
   "cell_type": "markdown",
   "id": "03e34d96-8369-45f9-b2d0-5be13dd045ff",
   "metadata": {},
   "source": [
    "## Data cleaning"
   ]
  },
  {
   "cell_type": "code",
   "execution_count": 24,
   "id": "1dbf9868-2009-40c7-b006-4d49fabb9723",
   "metadata": {},
   "outputs": [
    {
     "name": "stdout",
     "output_type": "stream",
     "text": [
      "preprocessing done\n"
     ]
    }
   ],
   "source": [
    "txOpti, yOpti, _ = dataClean(tx_tr, y_tr)\n",
    "print(\"preprocessing done\")"
   ]
  },
  {
   "cell_type": "code",
   "execution_count": 30,
   "id": "a07e337a-3f77-4b9c-b66f-5fc111dfdeb8",
   "metadata": {},
   "outputs": [],
   "source": [
    "# Train using regularized logistic"
   ]
  },
  {
   "cell_type": "code",
   "execution_count": null,
   "id": "b9bed508-67dc-437a-a1fc-c7c1324a9dac",
   "metadata": {},
   "outputs": [],
   "source": [
    "max_iters = 100\n",
    "gamma = 0.5\n",
    "lambda_ = 1e-06\n",
    "ws = []\n",
    "losses = []\n",
    "\n",
    "for i in range(4): \n",
    "    print(f\"shape of txOpti[{i}] \", txOpti[i].shape)\n",
    "    yOpti[i][np.where(yOpti == -1)] = 0\n",
    "    initial_w = np.zeros(txOpti[i].shape[1])\n",
    "    w, loss = reg_logistic_regression(yOpti[i], txOpti[i], lambda_, initial_w, max_iters, gamma)\n",
    "    ws.append(w)\n",
    "    losses.append(loss)\n",
    "    print(\"end of the reg_logistic_regression with w=\",w,\" and loss=\", loss)"
   ]
  },
  {
   "cell_type": "code",
   "execution_count": null,
   "id": "838324f1-906d-4422-905f-411530b8455c",
   "metadata": {},
   "outputs": [],
   "source": [
    "# Test accuracy"
   ]
  },
  {
   "cell_type": "code",
   "execution_count": null,
   "id": "1f85d1dd-fb25-47e3-8d52-86af32cb5b45",
   "metadata": {},
   "outputs": [],
   "source": [
    "labels = []\n",
    "accs = []\n",
    "for i in range(4): \n",
    "    label = predict_logistic(ws[i], txOpti[i])\n",
    "    yOpti[i][np.where(yOpti[i] == 0)] = -1\n",
    "    acc = calculate_accuracy(yOpti[i], label)\n",
    "    print(\"the accuracy on the train set is \", acc)\n",
    "    accs.append(acc)\n",
    "    labels.append(label)\n",
    "\n",
    "accTot = (accs[0] + accs[1] + accs[2] + accs[3])/4\n",
    "print(\"the total accuracy on the train set is \", accTot)"
   ]
  },
  {
   "cell_type": "code",
   "execution_count": null,
   "id": "d9e08d3a-835b-4a87-ac2e-6f5154e0be4f",
   "metadata": {},
   "outputs": [],
   "source": [
    "# Predict test set"
   ]
  },
  {
   "cell_type": "code",
   "execution_count": null,
   "id": "b9ca4e26-4f1a-46e0-9aa6-afed8b349994",
   "metadata": {},
   "outputs": [],
   "source": [
    "# load the test dataset\n",
    "print(\"loading the test dataset\")\n",
    "DATA_TEST_PATH = 'test.csv'\n",
    "y_te, tx_te, ids_te = load_csv_data(DATA_TEST_PATH)\n",
    "print(\"test dataset loaded\")"
   ]
  },
  {
   "cell_type": "code",
   "execution_count": null,
   "id": "b1ce328b-0cdc-4aba-9a81-58ac83ab8983",
   "metadata": {},
   "outputs": [],
   "source": [
    "txOpti_te, yOpti_te, idsOpti_te = dataClean(tx_te, y_te)"
   ]
  },
  {
   "cell_type": "code",
   "execution_count": null,
   "id": "3e2a7cf8-fd96-4e26-b6d1-3f13a27203ff",
   "metadata": {},
   "outputs": [],
   "source": [
    "label = np.zeros(len(ids_te))\n",
    "\n",
    "for i in range(4):\n",
    "    predicted = predict_logistic(ws[i], txOpti_te[i])\n",
    "    # print(len(np.where(predicted==0)[0])\n",
    "    predicted[np.where(predicted == 0)] = -1\n",
    "    # label[idsOpti_te[i]] = predicted\n",
    "\n",
    "    "
   ]
  },
  {
   "cell_type": "code",
   "execution_count": 26,
   "id": "211d089b-673d-4ed2-8d02-ea555dc99738",
   "metadata": {},
   "outputs": [
    {
     "name": "stdout",
     "output_type": "stream",
     "text": [
      "shape of txOpti[0]  (99913, 19)\n",
      "ridge regression being done\n",
      "end of the ridge_regression with w= [-7.94012755e-02 -7.94012743e-02  1.52566616e-01 -2.61885497e-01\n",
      " -1.88981785e-01 -3.58632339e-02  2.34183917e-01 -3.57411454e-02\n",
      "  1.08553030e-01 -9.97240550e-02  3.71942221e-02  2.10842377e-01\n",
      " -1.26370424e-04 -9.79389820e-03 -1.26437263e-02  1.12201828e-02\n",
      " -3.12902432e-03 -8.20158559e-02 -8.46704050e-03  3.36840638e-02\n",
      " -7.94012746e-02 -6.74272113e-02  1.32811699e-01 -1.08251608e-01\n",
      " -2.39899474e-02  3.28202535e-02 -1.59398397e-02  7.79738387e-02\n",
      "  8.09404122e-02 -8.78010643e-02 -1.33295410e-02  2.10749612e-03\n",
      " -3.19204277e-03 -1.44306026e-01 -4.87442017e-02 -6.49215074e-03\n",
      "  4.89416427e-03  1.46611425e-02 -1.04680690e-03 -7.94012746e-02\n",
      " -2.30437003e-02  4.41645819e-02  4.59202856e-02  1.55233243e-02\n",
      " -3.63609978e-02  2.96439338e-02 -6.94723824e-02 -2.18897196e-02\n",
      "  6.83419279e-03 -3.15970604e-02  1.41247369e-04  4.51453274e-03\n",
      "  6.21596347e-02 -2.62764223e-03  9.29966823e-04 -1.07242378e-02\n",
      "  1.36760694e-03 -2.72395345e-03 -7.94012747e-02  5.75910920e-03\n",
      " -1.31556353e-02 -3.31893898e-03 -4.02902191e-02 -1.50165784e-03\n",
      "  3.27968382e-02  1.11463889e-02  1.69018781e-03  9.55585739e-03\n",
      "  5.46518846e-03 -7.94510361e-03  1.08890196e-03 -6.93007095e-03\n",
      " -7.11470640e-04  2.74980911e-03  4.33806419e-03 -4.30617130e-03\n",
      "  4.83311738e-04]  and loss= 0.23836650363038928\n",
      "shape of txOpti[1]  (77544, 23)\n",
      "ridge regression being done\n",
      "end of the ridge_regression with w= [-7.07017487e-03 -7.07017548e-03  5.92008446e-01 -3.34050925e-01\n",
      " -1.03883747e-01 -9.22285315e-02 -3.48489617e-02  1.43687400e-02\n",
      "  2.76829216e-02 -1.75345765e-02  1.55306885e-01  1.07782038e-01\n",
      " -3.75550400e-03  2.15004775e-04  3.58616331e-02 -1.43806614e-03\n",
      "  1.23141075e-02  7.29562551e-03  5.16244528e-03 -1.20344018e-02\n",
      "  6.21455329e-02 -6.61606555e-03  1.46448137e-03  6.49745841e-02\n",
      " -7.07017527e-03 -1.01177435e-01 -7.01026954e-02 -1.36077812e-01\n",
      "  3.36767825e-02 -5.10705053e-02 -4.26081357e-02 -9.68565593e-03\n",
      "  4.42011010e-02  1.50626114e-01 -2.70035844e-02 -1.40339618e-02\n",
      " -1.69407293e-02 -4.51859532e-02 -6.61424669e-02  7.95436451e-03\n",
      " -3.57445796e-02  4.49720419e-03 -9.46983708e-03 -3.79615742e-02\n",
      "  1.69684014e-01  1.78611480e-03 -3.24008458e-02 -7.07017542e-03\n",
      " -1.05563816e-01  7.41004952e-02  3.51159784e-02 -2.56272913e-03\n",
      " -5.12941238e-03  1.73542839e-02 -7.69013669e-03 -2.43585208e-02\n",
      " -5.45710501e-02  1.78443841e-03  2.64689043e-03 -2.85547848e-04\n",
      "  1.41015795e-02 -1.31877160e-03 -6.95783206e-03  2.01160476e-02\n",
      "  1.87999445e-04  4.18508565e-03  3.79051443e-03  1.65746588e-03\n",
      " -8.29903148e-04  1.72668570e-02 -7.07017539e-03  2.02796405e-02\n",
      " -8.83461489e-03  1.60497073e-04  2.09416743e-04  5.20753140e-03\n",
      " -1.85658258e-03  1.87028891e-03  3.66378814e-03 -6.27499273e-02\n",
      " -6.90866805e-05 -7.05144055e-03  6.64355377e-03 -1.27465149e-03\n",
      "  3.80224817e-04 -2.21898289e-03 -2.64884095e-03 -1.84004995e-03\n",
      " -6.71999329e-04 -1.93184324e-03 -1.20860067e-02 -1.56813010e-05\n",
      " -4.57822948e-04]  and loss= 0.3036837036813127\n",
      "shape of txOpti[2]  (50379, 30)\n",
      "ridge regression being done\n",
      "end of the ridge_regression with w= [ 2.13205200e-02  2.13205201e-02  6.65490860e-01 -1.45427103e-01\n",
      " -2.19621528e-02 -2.13849752e-02  3.21116617e-01 -9.43054057e-02\n",
      "  7.85316649e-03 -8.55994986e-02 -8.12685709e-02 -1.56856394e-02\n",
      " -3.90356377e-03  2.24546156e-01  1.90820904e-01  4.67254963e-02\n",
      "  7.69265552e-03  7.00689595e-03  2.04811136e-03 -1.48808910e-02\n",
      " -3.08751106e-03 -3.42705040e-02 -9.83436810e-04 -9.22750688e-02\n",
      "  1.06440322e-01 -5.95226312e-03 -8.84764016e-03  1.06266099e-01\n",
      " -1.77083815e-03 -8.51447108e-03 -1.89657349e-02  2.13205200e-02\n",
      " -1.42297007e-01 -1.07683019e-01 -1.05592802e-01  6.92656572e-02\n",
      "  4.54896480e-02  2.76173019e-01 -1.86879574e-02 -6.88860810e-02\n",
      " -1.41068709e-02 -3.58381393e-02  1.55427294e-02  5.43868138e-02\n",
      " -4.54282796e-03  9.19178828e-03 -2.89968950e-02 -9.69850344e-03\n",
      " -2.98789709e-03 -3.62651977e-02 -5.24712386e-03 -2.52023318e-02\n",
      " -2.29573628e-03  9.86363043e-03 -8.63413064e-02  5.65400011e-02\n",
      " -4.23797817e-03 -3.98725757e-02  7.84726268e-02 -4.26445563e-02\n",
      "  5.72255485e-02  2.13205199e-02 -8.74792310e-02  3.09073606e-02\n",
      "  9.51508118e-03 -8.06890816e-04 -8.81024607e-02 -1.36303171e-01\n",
      " -9.21629632e-04  6.06212009e-03  2.37108421e-02  1.95007782e-02\n",
      " -1.04587187e-02 -9.58706941e-02 -4.51794699e-02 -1.06233145e-02\n",
      " -2.14153760e-03 -3.51402074e-03 -1.81425017e-03  1.99810720e-03\n",
      "  3.96026355e-03  2.37259066e-02  6.02313529e-05  6.10298602e-03\n",
      "  1.82125243e-02  5.43557941e-03  7.32415471e-03  8.20871033e-03\n",
      "  2.50491314e-03  3.29187239e-03 -1.18422921e-02  2.13205199e-02\n",
      "  1.66634526e-02  3.28556742e-04  2.95615380e-03 -3.14060953e-03\n",
      "  1.85616510e-02  1.87227268e-02  2.04122296e-03  2.98598715e-03\n",
      " -3.32191265e-03 -2.38793972e-03  1.28973115e-03 -3.74059297e-02\n",
      "  1.93670803e-02  1.49716992e-03 -2.94217562e-03  2.26831085e-03\n",
      "  3.43111374e-04 -2.24673748e-03  1.58187228e-03 -3.72329391e-03\n",
      "  4.85585203e-05 -1.16084736e-03 -1.35286832e-03 -4.51076350e-03\n",
      "  1.87918678e-03 -9.98496843e-04 -1.36887350e-02  1.63540454e-02\n",
      "  4.21453327e-04]  and loss= 0.2720473388234982\n",
      "shape of txOpti[3]  (22164, 30)\n",
      "ridge regression being done\n",
      "end of the ridge_regression with w= [-9.39529870e-02 -9.39529906e-02  7.28354152e-01 -1.34490114e-01\n",
      " -1.88471633e-02  2.53784412e-03  1.46131895e-02 -1.41073540e-01\n",
      " -1.00379256e-01 -2.54289016e-01 -4.41572480e-02 -7.99237126e-02\n",
      "  9.41705463e-03  1.39860952e-01  8.96046513e-02  4.20483036e-02\n",
      " -1.21445895e-02  3.08031974e-03 -7.16951442e-03  8.43022449e-03\n",
      "  2.36678321e-03  2.72558831e-02  2.54488324e-02 -2.76434715e-02\n",
      "  5.37204501e-02 -1.40588909e-02  6.11363656e-03  7.16064042e-02\n",
      "  1.73732172e-02  4.20061921e-03 -2.74826164e-02 -9.39529882e-02\n",
      " -1.29014504e-01 -6.40880615e-02 -1.26805444e-01  6.05246169e-02\n",
      "  6.37116145e-02  1.33714563e-01 -1.58131470e-03 -4.71802122e-02\n",
      " -1.90872934e-03 -3.69436767e-03 -5.85161050e-03  2.74933613e-02\n",
      "  9.05600871e-02  3.06327334e-02 -7.30779049e-02 -7.40974259e-03\n",
      "  3.10846620e-02 -4.77527609e-02  2.36868993e-03 -2.38646900e-02\n",
      " -3.93215144e-03  2.03468431e-02 -4.01914646e-02  9.58050994e-02\n",
      "  4.48194365e-02 -2.91105863e-02  1.29717302e-01  1.88652750e-02\n",
      "  3.43108364e-02 -9.39529881e-02 -1.01099833e-01  2.04122475e-02\n",
      "  3.01483815e-02 -5.19477492e-03 -3.68158899e-02 -4.91944262e-02\n",
      "  4.26455692e-03  5.45701148e-02  1.25208093e-02 -4.55341421e-03\n",
      " -9.82780713e-03 -4.28819279e-02 -2.97633189e-02 -1.96319294e-02\n",
      "  1.61431275e-03  7.18146264e-05 -1.02189369e-02 -5.64212508e-03\n",
      " -1.26302646e-03 -8.28515756e-04 -1.07407075e-02 -1.58666997e-05\n",
      "  4.39695971e-03  3.97252714e-03 -3.08247814e-03 -2.82010949e-03\n",
      " -5.56507745e-03  7.56000753e-04  1.40338457e-02 -9.39529881e-02\n",
      "  1.89414649e-02  3.05358160e-04 -6.70498506e-05 -1.41011752e-03\n",
      "  7.28127479e-03  5.93382094e-03  1.22998795e-04 -7.56119450e-03\n",
      " -2.30484560e-03  3.10476708e-03  2.13682360e-03 -1.26894198e-02\n",
      " -6.04421287e-03  2.76228637e-03  1.05633177e-02  3.99124240e-03\n",
      "  7.35752362e-04  1.93257101e-03  9.82108979e-04  2.14747056e-03\n",
      " -1.20456842e-03 -1.49632372e-03  2.06505893e-04 -8.10411684e-03\n",
      " -1.72421764e-02  1.21513999e-03 -1.43048479e-02 -9.72957978e-03\n",
      " -4.69498186e-03]  and loss= 0.2869990162025258\n",
      "the accuracy on the train set is  0.793800606527679\n",
      "the accuracy on the train set is  0.7084622923759414\n",
      "the accuracy on the train set is  0.7273268623831358\n",
      "the accuracy on the train set is  0.7307345244540696\n",
      "the total accuracy on the train set is  0.7400810714352064\n"
     ]
    }
   ],
   "source": [
    "#Train ridge regression \n",
    "max_iters = 100\n",
    "ws = []\n",
    "losses = []\n",
    "degree = 2\n",
    "lambda_ = 1e-06\n",
    "poly = []\n",
    "\n",
    "for i in range(4): \n",
    "    print(f\"shape of txOpti[{i}] \", txOpti[i].shape)\n",
    "    yOpti[i][np.where(yOpti == -1)] = 0\n",
    "    #lambda_, degree = best_lambda_degree(yOpti[i], txOpti[i], 4, [1e-06], np.arange(2,10), 1)\n",
    "    #print(\"the best lambda is \", lambda_,\" and the best degree is \",degree)\n",
    "    t = build_poly(txOpti[i], 4)\n",
    "    print(\"ridge regression being done\")\n",
    "    w, loss = ridge_regression(yOpti[i], t, lambda_)\n",
    "    ws.append(w)\n",
    "    losses.append(loss)\n",
    "    poly.append(t)\n",
    "    print(\"end of the ridge_regression with w=\",w,\" and loss=\", loss)\n",
    "    \n",
    "labels = []\n",
    "accs = []\n",
    "for i in range(4): \n",
    "    label = predict(ws[i], poly[i])\n",
    "    yOpti[i][np.where(yOpti[i] == 0)] = -1\n",
    "    acc = calculate_accuracy(yOpti[i], label)\n",
    "    print(\"the accuracy on the train set is \", acc)\n",
    "    accs.append(acc)\n",
    "    labels.append(label)\n",
    "\n",
    "accTot = (accs[0] + accs[1] + accs[2] + accs[3])/4\n",
    "print(\"the total accuracy on the train set is \", accTot)\n",
    "\n"
   ]
  },
  {
   "cell_type": "code",
   "execution_count": null,
   "id": "5d15e7fa-9a13-4b8d-8b34-7c6dee6d9540",
   "metadata": {},
   "outputs": [
    {
     "name": "stdout",
     "output_type": "stream",
     "text": [
      "shape of txOpti  (250000, 31)\n",
      "find best lambda and degree\n",
      "ridge regression being done\n",
      "end of the ridge_regression with w= [ 6.77364104e-02  6.77364219e-02  2.64450765e-01 -2.14757689e-01\n",
      " -1.79983126e-02 -1.94949695e-02  3.38347507e-02 -7.89664073e-02\n",
      " -4.64857013e-02  1.97600392e-02 -2.86439207e-02  1.04006462e-02\n",
      " -3.09269626e-02 -5.74100498e-02  5.31976546e-02  9.11573136e-02\n",
      " -1.04687610e-03 -3.71540241e-03 -2.67672008e-03 -4.62495879e-04\n",
      "  9.22831233e-05  1.19586328e-03 -6.42937321e-04 -1.33370316e-02\n",
      " -8.88051279e-03  4.21879850e-02 -3.25699064e-03 -3.29737280e-03\n",
      "  2.63060426e-02  3.34804141e-04 -1.26175072e-03 -1.26781396e-02\n",
      "  6.77364274e-02 -9.42961923e-02 -5.93302484e-02 -1.20080574e-01\n",
      "  1.49962722e-02  2.44121040e-02  6.92629856e-02 -5.49727404e-03\n",
      "  9.29025088e-03  7.15617425e-03 -4.53667853e-02  9.05120399e-03\n",
      "  4.57595598e-02  8.33738018e-03 -2.53247985e-02  7.47465572e-03\n",
      " -3.35310535e-03 -1.52292651e-02 -2.25344728e-02  8.15363644e-04\n",
      " -2.72314896e-03 -3.02098852e-03 -3.58962228e-02 -6.83145725e-02\n",
      " -3.85118642e-02  4.42929014e-02 -4.17198431e-04 -5.42338236e-03\n",
      "  2.98433629e-02 -6.31088012e-03  1.18859649e-01  6.77364316e-02\n",
      " -6.37108678e-02  7.61954923e-02  2.56309421e-03 -1.46713834e-02\n",
      " -1.42455807e-02 -2.80898868e-02  2.91162892e-04 -5.99476722e-03\n",
      "  2.91147032e-02 -3.01442476e-02 -2.05035449e-05  1.91992181e-01\n",
      " -9.80818624e-03 -2.22932357e-02  1.00930719e-03  3.92116831e-03\n",
      "  2.46403350e-02  1.31513836e-03  1.95567238e-03 -3.20497511e-03\n",
      "  1.11654909e-03  1.16983556e-02 -7.97381701e-03  2.39623494e-02\n",
      "  7.96897359e-04  9.86930393e-04  2.00095327e-03 -2.12070169e-04\n",
      " -1.83194079e-04 -6.91037227e-02  6.77364271e-02  1.87600866e-02\n",
      "  1.16926537e-02  2.11129555e-02  1.19477154e-02 -2.15468769e-03\n",
      "  6.04812684e-03  1.71357819e-04 -6.15751491e-03 -2.38418119e-02\n",
      "  4.07402579e-02  5.67235253e-03 -2.56989075e-02  5.33512372e-04\n",
      "  1.42619659e-02 -1.41486147e-02 -5.12624084e-04 -7.73967290e-03\n",
      " -4.35795756e-03 -2.45982519e-03  1.05104698e-02  5.01791073e-03\n",
      "  3.00824773e-03 -5.68688004e-02 -8.04581527e-03 -9.65268477e-04\n",
      "  4.83628315e-04 -6.23339380e-04 -1.11000479e-03  1.11874737e-03\n",
      "  1.20749687e-02  6.77364247e-02  1.31732151e-03 -1.36827893e-02\n",
      " -4.06529077e-03 -3.62166604e-03  1.43800404e-03 -6.51460683e-04\n",
      "  6.36825387e-06  1.69690622e-03  6.52851944e-03 -1.25358582e-02\n",
      " -3.00471251e-03 -9.46272641e-02  9.91291580e-04 -2.74097762e-03\n",
      " -2.37208403e-04 -9.69713067e-04  4.44375255e-04 -4.30659289e-04\n",
      " -8.76765844e-04 -4.22904554e-03 -3.48217864e-04 -1.77601063e-03\n",
      "  2.02685195e-02  1.29427879e-03 -5.12328676e-06  8.92183956e-06\n",
      "  8.61491162e-05  1.77641728e-05  4.47878127e-05  2.58700800e-04\n",
      "  6.77364264e-02 -4.39495554e-04  1.93446898e-03  1.21206938e-04\n",
      "  3.63961133e-04 -1.36808906e-04  2.72915032e-05 -2.49444549e-06\n",
      " -2.23783998e-05 -5.92030241e-04  1.21730145e-03  3.86495925e-04\n",
      "  1.65086255e-02 -1.45081825e-04  1.63102748e-04  2.10882429e-03\n",
      "  5.76585087e-04  5.85771746e-05  9.07403857e-04  7.26244947e-04\n",
      "  4.68943797e-04 -1.55525238e-03  2.15874795e-04  5.52988178e-03\n",
      " -7.72693917e-05 -7.66659088e-05 -8.99448338e-05 -4.24907779e-06\n",
      "  1.95133869e-05 -5.28124223e-05 -1.70878037e-04]  and loss= 0.06890365711679883\n",
      "the accuracy on the train set is  0.815276\n"
     ]
    }
   ],
   "source": [
    "# ridge regression non spliting data \n",
    "txOpti = dataClean_without_splitting(tx_tr, r=4)\n",
    "lambda_ = 1e-06\n",
    "\n",
    "print(f\"shape of txOpti \", txOpti.shape)\n",
    "y_tr[np.where(y_tr == -1)] = 0\n",
    "print(\"find best lambda and degree\")\n",
    "#lambda_, degree = best_lambda_degree(y_tr, txOpti, 4, np.logspace(-6, 0, 30), np.arange(2,5), 1)\n",
    "#print(\"the best lambda is \", lambda_,\" and the best degree is \",degree)\n",
    "#t = build_poly(txOpti, degree)\n",
    "print(\"ridge regression being done\")\n",
    "txOpti = build_poly(txOpti, degree=6)\n",
    "w, loss = ridge_regression(y_tr, txOpti, lambda_)\n",
    "print(\"end of the ridge_regression with w=\",w,\" and loss=\", loss)\n",
    "\n",
    "label = predict(w, txOpti)\n",
    "y_tr[np.where(y_tr == 0)] = -1\n",
    "acc = calculate_accuracy(y_tr, label)\n",
    "print(\"the accuracy on the train set is \", acc)"
   ]
  },
  {
   "cell_type": "code",
   "execution_count": 20,
   "id": "e3a02854-6b2a-402f-8d06-7ffc69e8374a",
   "metadata": {},
   "outputs": [
    {
     "name": "stdout",
     "output_type": "stream",
     "text": [
      "loading the test dataset\n",
      "test dataset loaded\n"
     ]
    }
   ],
   "source": [
    "print(\"loading the test dataset\")\n",
    "DATA_TEST_PATH = 'test.csv'\n",
    "y_te, tx_te, ids_te = load_csv_data(DATA_TEST_PATH)\n",
    "print(\"test dataset loaded\")"
   ]
  },
  {
   "cell_type": "code",
   "execution_count": 22,
   "id": "e1075118-1095-4612-a331-488ef712f054",
   "metadata": {},
   "outputs": [
    {
     "name": "stdout",
     "output_type": "stream",
     "text": [
      "preprocessing done\n"
     ]
    }
   ],
   "source": [
    "# Data cleaning\n",
    "\n",
    "txOpti_te = dataClean_without_splitting(tx_te, r=3)\n",
    "tePoly = build_poly(txOpti_te, 4)\n",
    "print(\"preprocessing done\")"
   ]
  },
  {
   "cell_type": "code",
   "execution_count": 23,
   "id": "5a693df9-3837-4e80-9a9b-175f8bc26798",
   "metadata": {},
   "outputs": [
    {
     "data": {
      "text/plain": [
       "'prediction done'"
      ]
     },
     "execution_count": 23,
     "metadata": {},
     "output_type": "execute_result"
    }
   ],
   "source": [
    "predicted = predict(w, tePoly)\n",
    "(\"prediction done\")"
   ]
  },
  {
   "cell_type": "code",
   "execution_count": 24,
   "id": "df8348c0-aa9c-47f7-8da9-2bf5b9d548e4",
   "metadata": {},
   "outputs": [],
   "source": [
    "OUTPUT_PATH = 'ridge-regression2'\n",
    "create_csv_submission(ids_te, predicted, OUTPUT_PATH)"
   ]
  },
  {
   "cell_type": "code",
   "execution_count": null,
   "id": "0efdddaa-e52a-4182-9280-9f9877df2fc3",
   "metadata": {},
   "outputs": [],
   "source": []
  }
 ],
 "metadata": {
  "kernelspec": {
   "display_name": "Python",
   "language": "python",
   "name": "python3"
  },
  "language_info": {
   "codemirror_mode": {
    "name": "ipython",
    "version": 3
   },
   "file_extension": ".py",
   "mimetype": "text/x-python",
   "name": "python",
   "nbconvert_exporter": "python",
   "pygments_lexer": "ipython3",
   "version": "3.8.10"
  }
 },
 "nbformat": 4,
 "nbformat_minor": 5
}
