{
 "cells": [
  {
   "cell_type": "code",
   "execution_count": 18,
   "id": "5617e344-c0c0-4bd9-a663-3cbb48c42afb",
   "metadata": {},
   "outputs": [
    {
     "name": "stdout",
     "output_type": "stream",
     "text": [
      "The autoreload extension is already loaded. To reload it, use:\n",
      "  %reload_ext autoreload\n"
     ]
    }
   ],
   "source": [
    "import numpy as np \n",
    "from implementations import *\n",
    "from helpers import *\n",
    "from helper_functions import *\n",
    "from optimization import *\n",
    "%load_ext autoreload\n",
    "%autoreload 2"
   ]
  },
  {
   "cell_type": "code",
   "execution_count": 2,
   "id": "8dc3d956-5298-48d9-80ea-28ab9505cf2f",
   "metadata": {},
   "outputs": [
    {
     "name": "stdout",
     "output_type": "stream",
     "text": [
      "loading the training dataset\n",
      "training dataset loaded\n"
     ]
    }
   ],
   "source": [
    "# load the training dataset\n",
    "print(\"loading the training dataset\")\n",
    "DATA_TRAIN_PATH = 'train.csv'\n",
    "y_tr, tx_tr, ids_tr = load_csv_data(DATA_TRAIN_PATH)\n",
    "print(\"training dataset loaded\")"
   ]
  },
  {
   "cell_type": "code",
   "execution_count": 3,
   "id": "cf13926f-761a-459f-9c1a-711c16155ced",
   "metadata": {},
   "outputs": [],
   "source": [
    "# Data cleaning"
   ]
  },
  {
   "cell_type": "code",
   "execution_count": 4,
   "id": "1dbf9868-2009-40c7-b006-4d49fabb9723",
   "metadata": {},
   "outputs": [],
   "source": [
    "txOpti, yOpti, _ = dataClean(tx_tr, y_tr)"
   ]
  },
  {
   "cell_type": "code",
   "execution_count": 5,
   "id": "a07e337a-3f77-4b9c-b66f-5fc111dfdeb8",
   "metadata": {},
   "outputs": [],
   "source": [
    "# Train using regularized logistic"
   ]
  },
  {
   "cell_type": "code",
   "execution_count": 6,
   "id": "b9bed508-67dc-437a-a1fc-c7c1324a9dac",
   "metadata": {},
   "outputs": [
    {
     "name": "stdout",
     "output_type": "stream",
     "text": [
      "shape of txOpti[0]  (99913, 19)\n",
      "Current iteration=0\t the loss=0.6820645\t the grad=1.2101687\n",
      "Current iteration=25\t the loss=-6.3559725\t the grad=0.7207940\n",
      "Current iteration=50\t the loss=-12.9875557\t the grad=0.7172199\n",
      "Current iteration=75\t the loss=-19.6002879\t the grad=0.7164339\n",
      "end of the reg_logistic_regression with w= [-32.29531511   2.37213054  -7.5076358    4.20833085   0.14887446\n",
      "   4.82309738   0.14887442   4.26844444  -7.7563209   -1.23777863\n",
      "   5.18369372   0.09821547  -0.17576262  -2.81177824   0.64538748\n",
      "   0.08478127  -8.68367315  -0.08933196   2.2208657 ]  and loss= -25.943603442620518\n",
      "shape of txOpti[1]  (77544, 23)\n",
      "Current iteration=0\t the loss=0.7654166\t the grad=1.0116634\n",
      "Current iteration=25\t the loss=-3.3638025\t the grad=0.5368403\n",
      "Current iteration=50\t the loss=-7.0754947\t the grad=0.5304236\n",
      "Current iteration=75\t the loss=-10.7600279\t the grad=0.5290209\n",
      "end of the reg_logistic_regression with w= [-2.27573461e+01  6.98664779e+00 -8.77613777e+00  4.29231312e+00\n",
      "  1.36959869e+00  7.59088400e-01  1.01383105e+00  1.94180263e+00\n",
      " -4.32803265e+00  6.11264916e+00  4.16517720e+00 -1.43963736e-01\n",
      " -6.60703999e-02 -3.75271603e-01 -2.82530780e-01  2.51858876e-01\n",
      " -1.24500511e+00  1.89565302e-01  1.57180686e+00  1.51282529e+00\n",
      " -1.93850259e-01 -1.00516187e-02  1.51282549e+00]  and loss= -14.28970985490755\n",
      "shape of txOpti[2]  (50379, 30)\n",
      "Current iteration=0\t the loss=0.6961193\t the grad=0.9719781\n",
      "Current iteration=25\t the loss=-1.9203095\t the grad=0.4065326\n",
      "Current iteration=50\t the loss=-4.0955512\t the grad=0.3976049\n",
      "Current iteration=75\t the loss=-6.2408450\t the grad=0.3955109\n",
      "end of the reg_logistic_regression with w= [-1.40952194e+01  8.53088120e+00 -4.18252959e+00  4.57651592e+00\n",
      "  2.69743549e+00  2.63695683e+00  2.12374276e+00 -2.59709495e+00\n",
      "  3.07731720e-01 -2.94320037e+00  8.97814699e-01 -2.69493826e+00\n",
      "  4.49569696e+00  6.89654901e+00  2.94676706e+00 -6.61521158e-02\n",
      "  5.62843700e-02 -3.31983590e-01 -2.27872246e-01 -9.67168468e-03\n",
      "  3.67982214e-01  2.47772437e-01 -8.45874158e-01  1.27191590e+00\n",
      "  3.02437531e-02 -3.65224681e-02  1.60238701e+00 -2.55712757e-02\n",
      " -2.75717200e-01  1.30843424e+00]  and loss= -8.292195219493099\n",
      "shape of txOpti[3]  (22164, 30)\n",
      "Current iteration=0\t the loss=0.8205706\t the grad=0.9944130\n",
      "Current iteration=25\t the loss=-3.3477382\t the grad=0.5436122\n",
      "Current iteration=50\t the loss=-7.1072324\t the grad=0.5386062\n",
      "Current iteration=75\t the loss=-10.8425495\t the grad=0.5375504\n",
      "end of the reg_logistic_regression with w= [-2.42412195e+01  8.59871770e+00 -5.14376857e+00  3.93762519e+00\n",
      "  4.53496934e+00 -5.42619128e-01 -5.64858418e-01 -1.48774488e+00\n",
      " -7.59354200e-01 -1.09447850e+00 -3.71319140e-01 -3.23911411e+00\n",
      "  4.34551867e+00  2.36475551e-01  3.43224001e+00 -5.51204519e-01\n",
      "  6.61134967e-02 -1.43822500e-01  2.06889009e-02  9.17134287e-02\n",
      "  1.74893791e+00  6.05499538e-01 -7.04030926e-01  7.42147384e-02\n",
      " -2.36204991e-01 -2.62116820e-01 -2.51623450e-02  4.42735869e-01\n",
      "  5.70151439e-03 -4.51814356e-01]  and loss= -14.421372812048265\n"
     ]
    }
   ],
   "source": [
    "max_iters = 100\n",
    "gamma = 0.5\n",
    "lambda_ = 1e-06\n",
    "ws = []\n",
    "losses = []\n",
    "\n",
    "for i in range(4): \n",
    "    print(f\"shape of txOpti[{i}] \", txOpti[i].shape)\n",
    "    yOpti[i][np.where(yOpti == -1)] = 0\n",
    "    initial_w = np.zeros(txOpti[i].shape[1])\n",
    "    w, loss = reg_logistic_regression(yOpti[i], txOpti[i], lambda_, initial_w, max_iters, gamma)\n",
    "    ws.append(w)\n",
    "    losses.append(loss)\n",
    "    print(\"end of the reg_logistic_regression with w=\",w,\" and loss=\", loss)"
   ]
  },
  {
   "cell_type": "code",
   "execution_count": 7,
   "id": "838324f1-906d-4422-905f-411530b8455c",
   "metadata": {},
   "outputs": [],
   "source": [
    "# Test accuracy"
   ]
  },
  {
   "cell_type": "code",
   "execution_count": 8,
   "id": "1f85d1dd-fb25-47e3-8d52-86af32cb5b45",
   "metadata": {},
   "outputs": [
    {
     "name": "stdout",
     "output_type": "stream",
     "text": [
      "the accuracy on the train set is  0.803168756818432\n",
      "the accuracy on the train set is  0.7043871866295265\n",
      "the accuracy on the train set is  0.6918954326207348\n",
      "the accuracy on the train set is  0.709574084100343\n",
      "the total accuracy on the train set is  0.7272563650422591\n"
     ]
    }
   ],
   "source": [
    "labels = []\n",
    "accs = []\n",
    "for i in range(4): \n",
    "    label = predict_logistic(ws[i], txOpti[i])\n",
    "    yOpti[i][np.where(yOpti[i] == 0)] = -1\n",
    "    acc = calculate_accuracy(yOpti[i], label)\n",
    "    print(\"the accuracy on the train set is \", acc)\n",
    "    accs.append(acc)\n",
    "    labels.append(label)\n",
    "\n",
    "accTot = (accs[0] + accs[1] + accs[2] + accs[3])/4\n",
    "print(\"the total accuracy on the train set is \", accTot)"
   ]
  },
  {
   "cell_type": "code",
   "execution_count": 9,
   "id": "d9e08d3a-835b-4a87-ac2e-6f5154e0be4f",
   "metadata": {},
   "outputs": [],
   "source": [
    "# Predict test set"
   ]
  },
  {
   "cell_type": "code",
   "execution_count": 12,
   "id": "b9ca4e26-4f1a-46e0-9aa6-afed8b349994",
   "metadata": {},
   "outputs": [
    {
     "name": "stdout",
     "output_type": "stream",
     "text": [
      "loading the test dataset\n",
      "test dataset loaded\n"
     ]
    }
   ],
   "source": [
    "# load the test dataset\n",
    "print(\"loading the test dataset\")\n",
    "DATA_TEST_PATH = 'test.csv'\n",
    "y_te, tx_te, ids_te = load_csv_data(DATA_TEST_PATH)\n",
    "print(\"test dataset loaded\")"
   ]
  },
  {
   "cell_type": "code",
   "execution_count": 13,
   "id": "b1ce328b-0cdc-4aba-9a81-58ac83ab8983",
   "metadata": {},
   "outputs": [],
   "source": [
    "txOpti_te, yOpti_te, idsOpti_te = dataClean(tx_te, y_te)"
   ]
  },
  {
   "cell_type": "code",
   "execution_count": 39,
   "id": "3e2a7cf8-fd96-4e26-b6d1-3f13a27203ff",
   "metadata": {},
   "outputs": [],
   "source": [
    "label = np.zeros(len(ids_te))\n",
    "\n",
    "for i in range(4):\n",
    "    predicted = predict_logistic(ws[i], txOpti_te[i])\n",
    "    # print(len(np.where(predicted==0)[0])\n",
    "    predicted[np.where(predicted == 0)] = -1\n",
    "    # label[idsOpti_te[i]] = predicted\n",
    "\n",
    "    "
   ]
  },
  {
   "cell_type": "code",
   "execution_count": null,
   "id": "211d089b-673d-4ed2-8d02-ea555dc99738",
   "metadata": {},
   "outputs": [],
   "source": []
  }
 ],
 "metadata": {
  "kernelspec": {
   "display_name": "Python",
   "language": "python",
   "name": "python3"
  },
  "language_info": {
   "codemirror_mode": {
    "name": "ipython",
    "version": 3
   },
   "file_extension": ".py",
   "mimetype": "text/x-python",
   "name": "python",
   "nbconvert_exporter": "python",
   "pygments_lexer": "ipython3",
   "version": "3.8.10"
  }
 },
 "nbformat": 4,
 "nbformat_minor": 5
}
