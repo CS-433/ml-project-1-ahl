{
 "cells": [
  {
   "cell_type": "code",
   "execution_count": 59,
   "id": "5617e344-c0c0-4bd9-a663-3cbb48c42afb",
   "metadata": {},
   "outputs": [
    {
     "name": "stdout",
     "output_type": "stream",
     "text": [
      "The autoreload extension is already loaded. To reload it, use:\n",
      "  %reload_ext autoreload\n"
     ]
    }
   ],
   "source": [
    "import numpy as np \n",
    "from implementations import *\n",
    "from helpers import *\n",
    "from helper_functions import *\n",
    "from optimization import *\n",
    "%load_ext autoreload\n",
    "%autoreload 2"
   ]
  },
  {
   "cell_type": "code",
   "execution_count": 60,
   "id": "8dc3d956-5298-48d9-80ea-28ab9505cf2f",
   "metadata": {},
   "outputs": [
    {
     "name": "stdout",
     "output_type": "stream",
     "text": [
      "loading the training dataset\n",
      "training dataset loaded\n"
     ]
    }
   ],
   "source": [
    "# load the training dataset\n",
    "print(\"loading the training dataset\")\n",
    "DATA_TRAIN_PATH = 'train.csv'\n",
    "y_tr, tx_tr, ids_tr = load_csv_data(DATA_TRAIN_PATH)\n",
    "print(\"training dataset loaded\")"
   ]
  },
  {
   "cell_type": "markdown",
   "id": "d684fa2b-e791-4a15-82ea-0c55aff18abd",
   "metadata": {},
   "source": [
    "# Data cleaning"
   ]
  },
  {
   "cell_type": "code",
   "execution_count": 61,
   "id": "1dbf9868-2009-40c7-b006-4d49fabb9723",
   "metadata": {},
   "outputs": [],
   "source": [
    "txOpti, yOpti, _ = dataClean(tx_tr, y_tr)"
   ]
  },
  {
   "cell_type": "markdown",
   "id": "cd001160-20fd-437f-854a-118735019b0a",
   "metadata": {},
   "source": [
    "# Train using ridge regression"
   ]
  },
  {
   "cell_type": "code",
   "execution_count": 62,
   "id": "b9bed508-67dc-437a-a1fc-c7c1324a9dac",
   "metadata": {},
   "outputs": [
    {
     "name": "stdout",
     "output_type": "stream",
     "text": [
      "best lambda is  1e-06  and best degree is  1\n",
      "end of the ridge_regression with loss=0.06940528855719576\n",
      "best lambda is  1e-06  and best degree is  1\n",
      "end of the ridge_regression with loss=0.0908194056759205\n",
      "best lambda is  1e-06  and best degree is  1\n",
      "end of the ridge_regression with loss=0.08717399062025641\n",
      "best lambda is  1e-06  and best degree is  1\n",
      "end of the ridge_regression with loss=0.08878703991906979\n"
     ]
    }
   ],
   "source": [
    "losses = []\n",
    "ws = []\n",
    "txPoly = [] \n",
    "\n",
    "for i in range(4): \n",
    "    yOpti[i][np.where(yOpti[i] == -1)] = 0\n",
    "\n",
    "    lambda_, degree = best_lambda_degree(yOpti[i], txOpti[i], 4, np.logspace(-6, 0, 30), np.arange(1, 5), 1)\n",
    "    print(\"best lambda is \",lambda_,\" and best degree is \", degree)\n",
    "    t = build_poly(txOpti[i], degree)\n",
    "    w, loss = ridge_regression(yOpti[i], t, lambda_)\n",
    "    losses.append(loss) \n",
    "    ws.append(w) \n",
    "    txPoly.append(t)\n",
    "    print(f'end of the ridge_regression with loss={loss}')"
   ]
  },
  {
   "cell_type": "code",
   "execution_count": 70,
   "id": "e1614b7e-5c3c-48fd-aced-ff639fa3ccc3",
   "metadata": {},
   "outputs": [
    {
     "name": "stdout",
     "output_type": "stream",
     "text": [
      "(31,)\n"
     ]
    }
   ],
   "source": [
    "print(w.shape)"
   ]
  },
  {
   "cell_type": "markdown",
   "id": "bdc904a1-eb1a-4cd7-9ce3-250b6cb99e0a",
   "metadata": {},
   "source": [
    "# Test accuracy"
   ]
  },
  {
   "cell_type": "code",
   "execution_count": 71,
   "id": "1f85d1dd-fb25-47e3-8d52-86af32cb5b45",
   "metadata": {},
   "outputs": [
    {
     "name": "stdout",
     "output_type": "stream",
     "text": [
      "the accuracy on the train set is  0.8131574469788716\n",
      "the accuracy on the train set is  0.7320875889817394\n",
      "the accuracy on the train set is  0.747513845054487\n",
      "the accuracy on the train set is  0.7285237321783071\n",
      "the total accuracy on the train set is  0.7553206532983512\n"
     ]
    }
   ],
   "source": [
    "labels = []\n",
    "accs = []\n",
    "for i in range(4): \n",
    "    label = predict(ws[i], txPoly[i])\n",
    "    yOpti[i][np.where(yOpti[i] == 0)] = -1\n",
    "    acc = calculate_accuracy(yOpti[i], label)\n",
    "    print(\"the accuracy on the train set is \", acc)\n",
    "    accs.append(acc)\n",
    "    labels.append(label)\n",
    "\n",
    "accTot = (accs[0] + accs[1] + accs[2] + accs[3])/4\n",
    "print(\"the total accuracy on the train set is \", accTot)"
   ]
  },
  {
   "cell_type": "markdown",
   "id": "e43906c4-78b4-4468-bef7-6bd30a66fe9f",
   "metadata": {},
   "source": [
    "# Predict test set"
   ]
  },
  {
   "cell_type": "code",
   "execution_count": 72,
   "id": "b9ca4e26-4f1a-46e0-9aa6-afed8b349994",
   "metadata": {},
   "outputs": [
    {
     "name": "stdout",
     "output_type": "stream",
     "text": [
      "loading the test dataset\n",
      "test dataset loaded\n"
     ]
    }
   ],
   "source": [
    "# load the test dataset\n",
    "print(\"loading the test dataset\")\n",
    "DATA_TEST_PATH = 'test.csv'\n",
    "y_te, tx_te, ids_te = load_csv_data(DATA_TEST_PATH)\n",
    "print(\"test dataset loaded\")"
   ]
  },
  {
   "cell_type": "code",
   "execution_count": 73,
   "id": "b1ce328b-0cdc-4aba-9a81-58ac83ab8983",
   "metadata": {},
   "outputs": [],
   "source": [
    "txOpti_te, yOpti_te, idsOpti_te = dataClean(tx_te, y_te)"
   ]
  },
  {
   "cell_type": "code",
   "execution_count": 77,
   "id": "3e2a7cf8-fd96-4e26-b6d1-3f13a27203ff",
   "metadata": {},
   "outputs": [],
   "source": [
    "y_pred = np.zeros(len(ids_te))\n",
    "degree = 1\n",
    "\n",
    "for i in range(4):\n",
    "    t = build_poly(txOpti_te[i], degree)\n",
    "    predicted = predict_logistic(ws[i], t)\n",
    "    predicted[np.where(predicted == 0)] = -1\n",
    "    y_pred[idsOpti_te[i]] = predicted"
   ]
  },
  {
   "cell_type": "markdown",
   "id": "ec76993b-8752-49f0-91b9-51cdd346541d",
   "metadata": {},
   "source": [
    "# Generated submission file"
   ]
  },
  {
   "cell_type": "code",
   "execution_count": 78,
   "id": "fef28071-e6d7-4589-b7c9-35f83cf74996",
   "metadata": {},
   "outputs": [],
   "source": [
    "OUTPUT_PATH = 'ridge-submission'\n",
    "create_csv_submission(ids_te, y_pred, OUTPUT_PATH)"
   ]
  },
  {
   "cell_type": "code",
   "execution_count": 81,
   "id": "0b851d79-1ce7-4c48-986d-cb499bf823bc",
   "metadata": {},
   "outputs": [
    {
     "name": "stdout",
     "output_type": "stream",
     "text": [
      "0.8329537975285004\n"
     ]
    }
   ],
   "source": []
  },
  {
   "cell_type": "code",
   "execution_count": null,
   "id": "359e3fd0-7ed7-44b2-bbce-2e0cce3ffa8e",
   "metadata": {},
   "outputs": [],
   "source": []
  }
 ],
 "metadata": {
  "kernelspec": {
   "display_name": "Python",
   "language": "python",
   "name": "python3"
  },
  "language_info": {
   "codemirror_mode": {
    "name": "ipython",
    "version": 3
   },
   "file_extension": ".py",
   "mimetype": "text/x-python",
   "name": "python",
   "nbconvert_exporter": "python",
   "pygments_lexer": "ipython3",
   "version": "3.8.10"
  }
 },
 "nbformat": 4,
 "nbformat_minor": 5
}
