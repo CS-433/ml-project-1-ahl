{
 "cells": [
  {
   "cell_type": "code",
   "execution_count": 1,
   "id": "5617e344-c0c0-4bd9-a663-3cbb48c42afb",
   "metadata": {},
   "outputs": [],
   "source": [
    "import numpy as np \n",
    "from implementations import *\n",
    "from helpers import *\n",
    "from helper_functions import *\n",
    "from optimization import *\n",
    "%load_ext autoreload\n",
    "%autoreload 2"
   ]
  },
  {
   "cell_type": "code",
   "execution_count": 2,
   "id": "8dc3d956-5298-48d9-80ea-28ab9505cf2f",
   "metadata": {},
   "outputs": [
    {
     "name": "stdout",
     "output_type": "stream",
     "text": [
      "loading the training dataset\n",
      "training dataset loaded\n"
     ]
    }
   ],
   "source": [
    "# load the training dataset\n",
    "print(\"loading the training dataset\")\n",
    "DATA_TRAIN_PATH = 'train.csv'\n",
    "y_tr, tx_tr, ids_tr = load_csv_data(DATA_TRAIN_PATH)\n",
    "print(\"training dataset loaded\")"
   ]
  },
  {
   "cell_type": "code",
   "execution_count": 3,
   "id": "6798c1b7-1d12-4b45-994c-a345a3f9502d",
   "metadata": {},
   "outputs": [
    {
     "name": "stdout",
     "output_type": "stream",
     "text": [
      "(250000, 30)\n"
     ]
    }
   ],
   "source": [
    "print(tx_tr.shape)"
   ]
  },
  {
   "cell_type": "code",
   "execution_count": 13,
   "id": "d0ce20be-c142-4531-9e78-cb016aab6a79",
   "metadata": {},
   "outputs": [
    {
     "name": "stdout",
     "output_type": "stream",
     "text": [
      "loading the test dataset\n",
      "test dataset loaded\n"
     ]
    }
   ],
   "source": [
    "# load the test dataset\n",
    "print(\"loading the test dataset\")\n",
    "DATA_TEST_PATH = 'test.csv'\n",
    "y_te, tx_te, ids_te = load_csv_data(DATA_TEST_PATH)\n",
    "print(\"test dataset loaded\")"
   ]
  },
  {
   "cell_type": "markdown",
   "id": "4528edf7-1cfd-4db3-a460-eabf5630c417",
   "metadata": {},
   "source": [
    "# With splitting"
   ]
  },
  {
   "cell_type": "markdown",
   "id": "d684fa2b-e791-4a15-82ea-0c55aff18abd",
   "metadata": {},
   "source": [
    "## Data cleaning"
   ]
  },
  {
   "cell_type": "code",
   "execution_count": 4,
   "id": "1dbf9868-2009-40c7-b006-4d49fabb9723",
   "metadata": {},
   "outputs": [],
   "source": [
    "txOpti, yOpti, idsOpti = dataClean(tx_tr, y_tr, r=4)"
   ]
  },
  {
   "cell_type": "markdown",
   "id": "cd001160-20fd-437f-854a-118735019b0a",
   "metadata": {},
   "source": [
    "## Train using ridge regression"
   ]
  },
  {
   "cell_type": "code",
   "execution_count": 5,
   "id": "4a1e1dbd-9f46-4ffd-9cb8-a2c53531173d",
   "metadata": {},
   "outputs": [
    {
     "name": "stdout",
     "output_type": "stream",
     "text": [
      "end of the ridge_regression with loss=0.059591625909013804\n",
      "0.837458588972406\n",
      "end of the ridge_regression with loss=0.07592092592146824\n",
      "0.794452181987001\n",
      "end of the ridge_regression with loss=0.06801183472127788\n",
      "0.821235038408861\n",
      "end of the ridge_regression with loss=0.07174975404874817\n",
      "0.812804547915539\n"
     ]
    }
   ],
   "source": [
    "degree = 4\n",
    "\n",
    "losses = []\n",
    "ws = []\n",
    "txPoly = [] \n",
    "\n",
    "for i in range(4): \n",
    "    yOpti[i][np.where(yOpti[i] == -1)] = 0\n",
    "\n",
    "    t = build_poly(txOpti[i], degree)\n",
    "    w, loss = ridge_regression(yOpti[i], t, 0.000001)\n",
    "    losses.append(loss) \n",
    "    ws.append(w) \n",
    "    txPoly.append(t)\n",
    "    print(f'end of the ridge_regression with loss={loss}')\n",
    "    \n",
    "    predicted = predict(w, t)\n",
    "    yOpti[i][np.where(yOpti[i] == 0)] = -1\n",
    "    acc = calculate_accuracy(yOpti[i], predicted)\n",
    "    print(f'{acc:.15f}')"
   ]
  },
  {
   "cell_type": "markdown",
   "id": "fc10cefc-f8bc-407f-8cd7-416010491733",
   "metadata": {},
   "source": [
    "## Test accuracy (train)"
   ]
  },
  {
   "cell_type": "code",
   "execution_count": 6,
   "id": "c05b1f59-d2ab-46da-a187-ec419e2483ca",
   "metadata": {},
   "outputs": [
    {
     "name": "stdout",
     "output_type": "stream",
     "text": [
      "0.818664000000000\n"
     ]
    }
   ],
   "source": [
    "y_pred = np.zeros(len(ids_tr))\n",
    "degree = 4\n",
    "\n",
    "for i in range(4):\n",
    "    predicted = predict(ws[i], txPoly[i])\n",
    "    y_pred[idsOpti[i]] = predicted\n",
    "\n",
    "y_pred[np.where(y_pred == 0)] = -1\n",
    "\n",
    "acc = calculate_accuracy(y_tr, y_pred)\n",
    "print(f'{acc:.15f}')"
   ]
  },
  {
   "cell_type": "markdown",
   "id": "b4f2e611-3695-47f3-9555-5bf6d7dc2435",
   "metadata": {},
   "source": [
    "## Predict with test set"
   ]
  },
  {
   "cell_type": "code",
   "execution_count": 31,
   "id": "b9d2e9e1-1dd4-4a6d-8618-f67f8897db06",
   "metadata": {},
   "outputs": [],
   "source": [
    "txOpti_te, yOpti_te, idsOpti_te = dataClean(tx_te, y_te)"
   ]
  },
  {
   "cell_type": "code",
   "execution_count": 33,
   "id": "da2c8f32-de7c-4e75-9e8e-f0eef3308494",
   "metadata": {},
   "outputs": [],
   "source": [
    "y_pred_te = np.zeros(len(ids_te))\n",
    "degree = 4\n",
    "\n",
    "for i in range(4):\n",
    "    t = build_poly(txOpti_te[i], degree)\n",
    "    predicted = predict(ws[i], t)\n",
    "    y_pred_te[idsOpti_te[i]] = predicted"
   ]
  },
  {
   "cell_type": "markdown",
   "id": "90e6db4e-d32d-4151-89cd-aaf1b9c34b5f",
   "metadata": {},
   "source": [
    "# Without split"
   ]
  },
  {
   "cell_type": "markdown",
   "id": "5b4c81ed-e0fb-4156-ac6f-c296c4874995",
   "metadata": {},
   "source": [
    "## Data cleaning"
   ]
  },
  {
   "cell_type": "code",
   "execution_count": 8,
   "id": "240fd078-89b3-4b33-b217-5f163b55ea42",
   "metadata": {},
   "outputs": [],
   "source": [
    "txOpti_ns = dataClean_without_splitting(tx_tr, r=4)\n",
    "y_tr_ns = y_tr\n",
    "y_tr_ns[np.where(y_tr_ns == -1)] = 0"
   ]
  },
  {
   "cell_type": "markdown",
   "id": "da53d873-e44c-4d32-ad32-f75588c07890",
   "metadata": {},
   "source": [
    "## Train using Ridge regression"
   ]
  },
  {
   "cell_type": "code",
   "execution_count": 9,
   "id": "bf89f951-14c2-43ea-9e80-7fb32b769d4a",
   "metadata": {},
   "outputs": [
    {
     "name": "stdout",
     "output_type": "stream",
     "text": [
      "end of the logistic_regression with loss= 0.07112917164481461\n"
     ]
    }
   ],
   "source": [
    "# test ridge regression \n",
    "\n",
    "t_ns = build_poly(txOpti_ns, 4)\n",
    "\n",
    "w_ns, loss = ridge_regression(y_tr_ns, t_ns, 0.000001)\n",
    "\n",
    "print(\"end of the logistic_regression with loss=\", loss)"
   ]
  },
  {
   "cell_type": "code",
   "execution_count": 10,
   "id": "434aae2f-d889-4d3d-b0fe-041fe41ce455",
   "metadata": {},
   "outputs": [
    {
     "name": "stdout",
     "output_type": "stream",
     "text": [
      "the accuracy on the train set is  0.807472\n"
     ]
    }
   ],
   "source": [
    "# test ridge regression \n",
    "\n",
    "pred_tr_ns = predict(w_ns, t_ns)\n",
    "y_tr_ns[np.where(y_tr_ns == 0)] = -1\n",
    "acc = calculate_accuracy(y_tr_ns, pred_tr_ns)\n",
    "\n",
    "print(\"the accuracy on the train set is \", acc)"
   ]
  },
  {
   "cell_type": "code",
   "execution_count": 44,
   "id": "53808687-faa7-424a-8b1b-a9e883850e2b",
   "metadata": {},
   "outputs": [],
   "source": [
    "txOpti_te_ns = dataClean_without_splitting(tx_te)\n",
    "y_pred_te_ns = predict(w_ns, build_poly(txOpti_te_ns, 4))"
   ]
  },
  {
   "cell_type": "code",
   "execution_count": 45,
   "id": "ee8ea26c-57cd-408c-aab8-5d26e6ff8468",
   "metadata": {},
   "outputs": [
    {
     "name": "stdout",
     "output_type": "stream",
     "text": [
      "0.7772412263875348\n"
     ]
    }
   ],
   "source": [
    "acc_12_te = calculate_accuracy(y_pred_te, y_pred_te_ns)\n",
    "print(acc_12_te)"
   ]
  },
  {
   "cell_type": "code",
   "execution_count": 46,
   "id": "3ed2a78d-6c32-4f4e-9835-2ba0118b2549",
   "metadata": {},
   "outputs": [
    {
     "name": "stdout",
     "output_type": "stream",
     "text": [
      "0.8385995816360233\n",
      "0.7567961415454452\n",
      "0.7238730423390699\n",
      "0.8322956145100162\n",
      "compare both full predictions: 0.789548\n"
     ]
    }
   ],
   "source": [
    "for i in range(4):\n",
    "    acc_12 = calculate_accuracy(y_pred[idsOpti[i]], pred_tr_ns[idsOpti[i]])\n",
    "    print(acc_12)\n",
    "acc_12 = calculate_accuracy(y_pred, pred_tr_ns)\n",
    "print(f'compare both full predictions: {acc_12}')"
   ]
  },
  {
   "cell_type": "code",
   "execution_count": 29,
   "id": "e2e90f34-a41c-41cb-96cf-942cffb870d7",
   "metadata": {},
   "outputs": [
    {
     "name": "stdout",
     "output_type": "stream",
     "text": [
      "90.94558116223655\n",
      "0.9094558116223654\n",
      "92.52073138737752\n",
      "0.9252073138737752\n",
      "86.79348963784803\n",
      "0.8679348963784802\n",
      "80.18466748041108\n",
      "0.8018466748041108\n"
     ]
    }
   ],
   "source": [
    "for i in range(4):\n",
    "    oui = [x==y for x, y in zip(y_pred[idsOpti_te[i]],label_te[idsOpti_te[i]])]\n",
    "    print(f'{sum(oui)*100/len(idsOpti_te[i][0])}')\n",
    "    print(calculate_accuracy(y_pred[idsOpti_te[i]], label_te[idsOpti_te[i]]))\n"
   ]
  },
  {
   "cell_type": "code",
   "execution_count": 39,
   "id": "921e603d-7582-4e59-89df-5586d1c778fa",
   "metadata": {},
   "outputs": [
    {
     "name": "stdout",
     "output_type": "stream",
     "text": [
      "161349 : 163302\n"
     ]
    }
   ],
   "source": [
    "oui1 = 0\n",
    "oui2 = 0\n",
    "for i in range(4):\n",
    "    o1 = [x==1 for x in y_pred[idsOpti_te[i]]]\n",
    "    o2 = [x==1 for x in label_te[idsOpti_te[i]]]\n",
    "    oui1 += sum(o1)\n",
    "    oui2 += sum(o2)\n",
    "print(f'{oui1} : {oui2}')\n",
    "    "
   ]
  },
  {
   "cell_type": "markdown",
   "id": "bdc904a1-eb1a-4cd7-9ce3-250b6cb99e0a",
   "metadata": {},
   "source": [
    "# Test accuracy"
   ]
  },
  {
   "cell_type": "code",
   "execution_count": 8,
   "id": "1f85d1dd-fb25-47e3-8d52-86af32cb5b45",
   "metadata": {},
   "outputs": [
    {
     "name": "stdout",
     "output_type": "stream",
     "text": [
      "the accuracy on the train set is  0.8202035771120875\n",
      "the accuracy on the train set is  0.7517280511709481\n",
      "the accuracy on the train set is  0.7763353778360031\n",
      "the accuracy on the train set is  0.787222523010287\n",
      "the total accuracy on the train set is  0.7838723822823314\n"
     ]
    }
   ],
   "source": [
    "labels = []\n",
    "accs = []\n",
    "for i in range(4): \n",
    "    label = predict(ws[i], txPoly[i])\n",
    "    yOpti[i][np.where(yOpti[i] == 0)] = -1\n",
    "    acc = calculate_accuracy(yOpti[i], label)\n",
    "    print(\"the accuracy on the train set is \", acc)\n",
    "    accs.append(acc)\n",
    "    labels.append(label)\n",
    "\n",
    "accTot = (accs[0] + accs[1] + accs[2] + accs[3])/4\n",
    "print(\"the total accuracy on the train set is \", accTot)"
   ]
  },
  {
   "cell_type": "markdown",
   "id": "e43906c4-78b4-4468-bef7-6bd30a66fe9f",
   "metadata": {},
   "source": [
    "# Predict test set"
   ]
  },
  {
   "cell_type": "code",
   "execution_count": 10,
   "id": "b1ce328b-0cdc-4aba-9a81-58ac83ab8983",
   "metadata": {},
   "outputs": [],
   "source": [
    "txOpti_te, yOpti_te, idsOpti_te = dataClean(tx_te, y_te)"
   ]
  },
  {
   "cell_type": "code",
   "execution_count": 11,
   "id": "75a37b1a-db2d-4d02-9ac0-d2b1d374fd4f",
   "metadata": {},
   "outputs": [
    {
     "name": "stdout",
     "output_type": "stream",
     "text": [
      "(568238, 30)\n",
      "(250000, 30)\n",
      "(568238,)\n",
      "(250000,)\n"
     ]
    }
   ],
   "source": [
    "print(tx_te.shape)\n",
    "print(tx_tr.shape)\n",
    "print(y_te.shape)\n",
    "print(y_tr.shape)"
   ]
  },
  {
   "cell_type": "code",
   "execution_count": 29,
   "id": "3fb0a996-432c-467f-8db5-698cc59b099a",
   "metadata": {},
   "outputs": [
    {
     "name": "stdout",
     "output_type": "stream",
     "text": [
      "0.0\n",
      "1.0\n",
      "2.0\n",
      "3.0\n"
     ]
    }
   ],
   "source": [
    "test0 = tx_te[idsOpti_te[0]]\n",
    "test1 = tx_te[idsOpti_te[1]]\n",
    "test2 = tx_te[idsOpti_te[2]]\n",
    "test3 = tx_te[idsOpti_te[3]]\n",
    "print(np.mean(test0, axis=0)[22])\n",
    "print(np.mean(test1, axis=0)[22])\n",
    "print(np.mean(test2, axis=0)[22])\n",
    "print(np.mean(test3, axis=0)[22])"
   ]
  },
  {
   "cell_type": "code",
   "execution_count": 33,
   "id": "2c3fe178-7ebd-4e22-bb20-22aae7721d91",
   "metadata": {},
   "outputs": [
    {
     "name": "stdout",
     "output_type": "stream",
     "text": [
      "[ 0 10  2 11  4 12  6  7  8  9]\n"
     ]
    }
   ],
   "source": [
    "a = np.arange(10)\n",
    "b = [1, 3, 5]\n",
    "c = [10, 11, 12]\n",
    "a[b] = c\n",
    "print(a)"
   ]
  },
  {
   "cell_type": "code",
   "execution_count": 22,
   "id": "3e2a7cf8-fd96-4e26-b6d1-3f13a27203ff",
   "metadata": {},
   "outputs": [],
   "source": []
  },
  {
   "cell_type": "code",
   "execution_count": 19,
   "id": "aede8ae1-c249-42ef-85b6-43e4cc552dd6",
   "metadata": {},
   "outputs": [
    {
     "name": "stdout",
     "output_type": "stream",
     "text": [
      "0\n",
      "1\n",
      "2\n",
      "3\n",
      "0.500000000000000\n"
     ]
    }
   ],
   "source": [
    "y_pred = np.zeros(len(ids_tr))\n",
    "degree = 2\n",
    "\n",
    "for i in range(4):\n",
    "    print(i)\n",
    "    t = build_poly(txOpti[i], degree)\n",
    "    predicted = predict(ws[i], t)\n",
    "    # predicted[np.where(predicted == 0)] = -1\n",
    "    y_pred[idsOpti[i]] = predicted\n",
    "\n",
    "acc = calculate_accuracy(y_tr[0:2], y_pred[0:2])\n",
    "print(f'{acc:.15f}')"
   ]
  },
  {
   "cell_type": "code",
   "execution_count": 15,
   "id": "5c185354-a32d-45bb-8db4-020e754eeb84",
   "metadata": {},
   "outputs": [],
   "source": [
    "xo = dataClean_without_splitting(tx_te)\n",
    "label_te = predict(w, build_poly(xo, 2))"
   ]
  },
  {
   "cell_type": "code",
   "execution_count": 42,
   "id": "d47f0738-ee0b-4b5d-a98d-13c709b19567",
   "metadata": {},
   "outputs": [
    {
     "name": "stdout",
     "output_type": "stream",
     "text": [
      "161349\n"
     ]
    }
   ],
   "source": [
    "print(yOpti"
   ]
  },
  {
   "cell_type": "code",
   "execution_count": 19,
   "id": "98e57299-1580-4542-a1f6-9cfd52e6205c",
   "metadata": {},
   "outputs": [
    {
     "name": "stdout",
     "output_type": "stream",
     "text": [
      "568238\n",
      "918237\n"
     ]
    }
   ],
   "source": [
    "print(len(ids_te))\n",
    "print(max(ids_te))"
   ]
  },
  {
   "cell_type": "markdown",
   "id": "ec76993b-8752-49f0-91b9-51cdd346541d",
   "metadata": {},
   "source": [
    "# Generated submission file"
   ]
  },
  {
   "cell_type": "code",
   "execution_count": 47,
   "id": "fef28071-e6d7-4589-b7c9-35f83cf74996",
   "metadata": {},
   "outputs": [],
   "source": [
    "OUTPUT_PATH = 'ridge-submission'\n",
    "create_csv_submission(ids_te, y_pred_te, OUTPUT_PATH)"
   ]
  },
  {
   "cell_type": "code",
   "execution_count": 81,
   "id": "0b851d79-1ce7-4c48-986d-cb499bf823bc",
   "metadata": {},
   "outputs": [
    {
     "name": "stdout",
     "output_type": "stream",
     "text": [
      "0.8329537975285004\n"
     ]
    }
   ],
   "source": []
  },
  {
   "cell_type": "code",
   "execution_count": null,
   "id": "359e3fd0-7ed7-44b2-bbce-2e0cce3ffa8e",
   "metadata": {},
   "outputs": [],
   "source": []
  }
 ],
 "metadata": {
  "kernelspec": {
   "display_name": "Python",
   "language": "python",
   "name": "python3"
  },
  "language_info": {
   "codemirror_mode": {
    "name": "ipython",
    "version": 3
   },
   "file_extension": ".py",
   "mimetype": "text/x-python",
   "name": "python",
   "nbconvert_exporter": "python",
   "pygments_lexer": "ipython3",
   "version": "3.8.10"
  }
 },
 "nbformat": 4,
 "nbformat_minor": 5
}
