{
 "cells": [
  {
   "cell_type": "code",
   "execution_count": 1,
   "id": "5617e344-c0c0-4bd9-a663-3cbb48c42afb",
   "metadata": {},
   "outputs": [],
   "source": [
    "import numpy as np \n",
    "from implementations import *\n",
    "from helpers import *\n",
    "from helper_functions import *\n",
    "from optimization import *\n",
    "%load_ext autoreload\n",
    "%autoreload 2"
   ]
  },
  {
   "cell_type": "code",
   "execution_count": 2,
   "id": "8dc3d956-5298-48d9-80ea-28ab9505cf2f",
   "metadata": {},
   "outputs": [
    {
     "name": "stdout",
     "output_type": "stream",
     "text": [
      "loading the training dataset\n",
      "training dataset loaded\n"
     ]
    }
   ],
   "source": [
    "# load the training dataset\n",
    "print(\"loading the training dataset\")\n",
    "DATA_TRAIN_PATH = 'train.csv'\n",
    "y_tr, tx_tr, ids_tr = load_csv_data(DATA_TRAIN_PATH)\n",
    "print(\"training dataset loaded\")"
   ]
  },
  {
   "cell_type": "code",
   "execution_count": 3,
   "id": "6798c1b7-1d12-4b45-994c-a345a3f9502d",
   "metadata": {},
   "outputs": [
    {
     "name": "stdout",
     "output_type": "stream",
     "text": [
      "(250000, 30)\n"
     ]
    }
   ],
   "source": [
    "print(tx_tr.shape)"
   ]
  },
  {
   "cell_type": "markdown",
   "id": "d684fa2b-e791-4a15-82ea-0c55aff18abd",
   "metadata": {},
   "source": [
    "# Data cleaning"
   ]
  },
  {
   "cell_type": "code",
   "execution_count": 6,
   "id": "1dbf9868-2009-40c7-b006-4d49fabb9723",
   "metadata": {},
   "outputs": [],
   "source": [
    "txOpti, yOpti, idsOpti = dataClean(tx_tr, y_tr)"
   ]
  },
  {
   "cell_type": "markdown",
   "id": "cd001160-20fd-437f-854a-118735019b0a",
   "metadata": {},
   "source": [
    "# Train using ridge regression"
   ]
  },
  {
   "cell_type": "code",
   "execution_count": 5,
   "id": "b9bed508-67dc-437a-a1fc-c7c1324a9dac",
   "metadata": {},
   "outputs": [
    {
     "ename": "KeyboardInterrupt",
     "evalue": "",
     "output_type": "error",
     "traceback": [
      "\u001b[0;31m---------------------------------------------------------------------------\u001b[0m",
      "\u001b[0;31mKeyboardInterrupt\u001b[0m                         Traceback (most recent call last)",
      "Input \u001b[0;32mIn [5]\u001b[0m, in \u001b[0;36m<cell line: 5>\u001b[0;34m()\u001b[0m\n\u001b[1;32m      5\u001b[0m \u001b[38;5;28;01mfor\u001b[39;00m i \u001b[38;5;129;01min\u001b[39;00m \u001b[38;5;28mrange\u001b[39m(\u001b[38;5;241m4\u001b[39m): \n\u001b[1;32m      6\u001b[0m     yOpti[i][np\u001b[38;5;241m.\u001b[39mwhere(yOpti[i] \u001b[38;5;241m==\u001b[39m \u001b[38;5;241m-\u001b[39m\u001b[38;5;241m1\u001b[39m)] \u001b[38;5;241m=\u001b[39m \u001b[38;5;241m0\u001b[39m\n\u001b[0;32m----> 8\u001b[0m     lambda_, degree \u001b[38;5;241m=\u001b[39m \u001b[43mbest_lambda_degree\u001b[49m\u001b[43m(\u001b[49m\u001b[43myOpti\u001b[49m\u001b[43m[\u001b[49m\u001b[43mi\u001b[49m\u001b[43m]\u001b[49m\u001b[43m,\u001b[49m\u001b[43m \u001b[49m\u001b[43mtxOpti\u001b[49m\u001b[43m[\u001b[49m\u001b[43mi\u001b[49m\u001b[43m]\u001b[49m\u001b[43m,\u001b[49m\u001b[43m \u001b[49m\u001b[38;5;241;43m4\u001b[39;49m\u001b[43m,\u001b[49m\u001b[43m \u001b[49m\u001b[43mnp\u001b[49m\u001b[38;5;241;43m.\u001b[39;49m\u001b[43mlogspace\u001b[49m\u001b[43m(\u001b[49m\u001b[38;5;241;43m-\u001b[39;49m\u001b[38;5;241;43m6\u001b[39;49m\u001b[43m,\u001b[49m\u001b[43m \u001b[49m\u001b[38;5;241;43m0\u001b[39;49m\u001b[43m,\u001b[49m\u001b[43m \u001b[49m\u001b[38;5;241;43m30\u001b[39;49m\u001b[43m)\u001b[49m\u001b[43m,\u001b[49m\u001b[43m \u001b[49m\u001b[43mnp\u001b[49m\u001b[38;5;241;43m.\u001b[39;49m\u001b[43marange\u001b[49m\u001b[43m(\u001b[49m\u001b[38;5;241;43m1\u001b[39;49m\u001b[43m,\u001b[49m\u001b[43m \u001b[49m\u001b[38;5;241;43m5\u001b[39;49m\u001b[43m)\u001b[49m\u001b[43m,\u001b[49m\u001b[43m \u001b[49m\u001b[38;5;241;43m1\u001b[39;49m\u001b[43m)\u001b[49m\n\u001b[1;32m      9\u001b[0m     \u001b[38;5;28mprint\u001b[39m(\u001b[38;5;124m\"\u001b[39m\u001b[38;5;124mbest lambda is \u001b[39m\u001b[38;5;124m\"\u001b[39m,lambda_,\u001b[38;5;124m\"\u001b[39m\u001b[38;5;124m and best degree is \u001b[39m\u001b[38;5;124m\"\u001b[39m, degree)\n\u001b[1;32m     10\u001b[0m     t \u001b[38;5;241m=\u001b[39m build_poly(txOpti[i], degree)\n",
      "File \u001b[0;32m~/ml-project-1-ahl/optimization.py:53\u001b[0m, in \u001b[0;36mbest_lambda_degree\u001b[0;34m(y, tx, k_fold, lambdas, degrees, seed)\u001b[0m\n\u001b[1;32m     51\u001b[0m rmse_temp \u001b[38;5;241m=\u001b[39m []\n\u001b[1;32m     52\u001b[0m \u001b[38;5;28;01mfor\u001b[39;00m k \u001b[38;5;129;01min\u001b[39;00m \u001b[38;5;28mrange\u001b[39m(k_fold): \n\u001b[0;32m---> 53\u001b[0m     _, loss_te,_ \u001b[38;5;241m=\u001b[39m \u001b[43mcross_validation\u001b[49m\u001b[43m \u001b[49m\u001b[43m(\u001b[49m\u001b[43my\u001b[49m\u001b[43m,\u001b[49m\u001b[43m \u001b[49m\u001b[43mtx\u001b[49m\u001b[43m,\u001b[49m\u001b[43m \u001b[49m\u001b[43mk_indices\u001b[49m\u001b[43m,\u001b[49m\u001b[43m \u001b[49m\u001b[43mk\u001b[49m\u001b[43m,\u001b[49m\u001b[43m \u001b[49m\u001b[43mlambda_\u001b[49m\u001b[43m)\u001b[49m\n\u001b[1;32m     54\u001b[0m     rmse_temp\u001b[38;5;241m.\u001b[39mappend(loss_te)\n\u001b[1;32m     55\u001b[0m rmse_te\u001b[38;5;241m.\u001b[39mappend(np\u001b[38;5;241m.\u001b[39mmean(rmse_temp))\n",
      "File \u001b[0;32m~/ml-project-1-ahl/optimization.py:37\u001b[0m, in \u001b[0;36mcross_validation\u001b[0;34m(y, tx, k_indices, k, lambda_)\u001b[0m\n\u001b[1;32m     35\u001b[0m y_te   \u001b[38;5;241m=\u001b[39m y[te_ind]\n\u001b[1;32m     36\u001b[0m y_tr   \u001b[38;5;241m=\u001b[39m y[tr_ind]\n\u001b[0;32m---> 37\u001b[0m tx_te  \u001b[38;5;241m=\u001b[39m \u001b[43mtx\u001b[49m\u001b[43m[\u001b[49m\u001b[43mte_ind\u001b[49m\u001b[43m]\u001b[49m\n\u001b[1;32m     38\u001b[0m tx_tr  \u001b[38;5;241m=\u001b[39m tx[tr_ind]\n\u001b[1;32m     39\u001b[0m w,loss_tr \u001b[38;5;241m=\u001b[39m ridge_regression(y_tr, tx_tr, lambda_)\n",
      "\u001b[0;31mKeyboardInterrupt\u001b[0m: "
     ]
    }
   ],
   "source": [
    "losses = []\n",
    "ws = []\n",
    "txPoly = [] \n",
    "\n",
    "for i in range(4): \n",
    "    yOpti[i][np.where(yOpti[i] == -1)] = 0\n",
    "\n",
    "    lambda_, degree = best_lambda_degree(yOpti[i], txOpti[i], 4, np.logspace(-6, 0, 30), np.arange(1, 5), 1)\n",
    "    print(\"best lambda is \",lambda_,\" and best degree is \", degree)\n",
    "    t = build_poly(txOpti[i], degree)\n",
    "    w, loss = ridge_regression(yOpti[i], t, lambda_)\n",
    "    losses.append(loss) \n",
    "    ws.append(w) \n",
    "    txPoly.append(t)\n",
    "    print(f'end of the ridge_regression with loss={loss}')"
   ]
  },
  {
   "cell_type": "code",
   "execution_count": 7,
   "id": "4a1e1dbd-9f46-4ffd-9cb8-a2c53531173d",
   "metadata": {},
   "outputs": [
    {
     "name": "stdout",
     "output_type": "stream",
     "text": [
      "end of the ridge_regression with loss=0.06631046682865395\n",
      "end of the ridge_regression with loss=0.08737292658592541\n",
      "end of the ridge_regression with loss=0.08144864801811093\n",
      "end of the ridge_regression with loss=0.08200918247690629\n"
     ]
    }
   ],
   "source": [
    "losses = []\n",
    "ws = []\n",
    "txPoly = [] \n",
    "\n",
    "for i in range(4): \n",
    "    yOpti[i][np.where(yOpti[i] == -1)] = 0\n",
    "\n",
    "    t = build_poly(txOpti[i], 2)\n",
    "    w, loss = ridge_regression(yOpti[i], t, 0.000001)\n",
    "    losses.append(loss) \n",
    "    ws.append(w) \n",
    "    txPoly.append(t)\n",
    "    print(f'end of the ridge_regression with loss={loss}')"
   ]
  },
  {
   "cell_type": "code",
   "execution_count": 8,
   "id": "e1614b7e-5c3c-48fd-aced-ff639fa3ccc3",
   "metadata": {},
   "outputs": [
    {
     "name": "stdout",
     "output_type": "stream",
     "text": [
      "(61,)\n"
     ]
    }
   ],
   "source": [
    "print(w.shape)"
   ]
  },
  {
   "cell_type": "markdown",
   "id": "bdc904a1-eb1a-4cd7-9ce3-250b6cb99e0a",
   "metadata": {},
   "source": [
    "# Test accuracy"
   ]
  },
  {
   "cell_type": "code",
   "execution_count": 8,
   "id": "1f85d1dd-fb25-47e3-8d52-86af32cb5b45",
   "metadata": {},
   "outputs": [
    {
     "name": "stdout",
     "output_type": "stream",
     "text": [
      "the accuracy on the train set is  0.8202035771120875\n",
      "the accuracy on the train set is  0.7517280511709481\n",
      "the accuracy on the train set is  0.7763353778360031\n",
      "the accuracy on the train set is  0.787222523010287\n",
      "the total accuracy on the train set is  0.7838723822823314\n"
     ]
    }
   ],
   "source": [
    "labels = []\n",
    "accs = []\n",
    "for i in range(4): \n",
    "    label = predict(ws[i], txPoly[i])\n",
    "    yOpti[i][np.where(yOpti[i] == 0)] = -1\n",
    "    acc = calculate_accuracy(yOpti[i], label)\n",
    "    print(\"the accuracy on the train set is \", acc)\n",
    "    accs.append(acc)\n",
    "    labels.append(label)\n",
    "\n",
    "accTot = (accs[0] + accs[1] + accs[2] + accs[3])/4\n",
    "print(\"the total accuracy on the train set is \", accTot)"
   ]
  },
  {
   "cell_type": "markdown",
   "id": "e43906c4-78b4-4468-bef7-6bd30a66fe9f",
   "metadata": {},
   "source": [
    "# Predict test set"
   ]
  },
  {
   "cell_type": "code",
   "execution_count": 9,
   "id": "b9ca4e26-4f1a-46e0-9aa6-afed8b349994",
   "metadata": {},
   "outputs": [
    {
     "name": "stdout",
     "output_type": "stream",
     "text": [
      "loading the test dataset\n",
      "test dataset loaded\n"
     ]
    }
   ],
   "source": [
    "# load the test dataset\n",
    "print(\"loading the test dataset\")\n",
    "DATA_TEST_PATH = 'test.csv'\n",
    "y_te, tx_te, ids_te = load_csv_data(DATA_TEST_PATH)\n",
    "print(\"test dataset loaded\")"
   ]
  },
  {
   "cell_type": "code",
   "execution_count": 15,
   "id": "b1ce328b-0cdc-4aba-9a81-58ac83ab8983",
   "metadata": {},
   "outputs": [],
   "source": [
    "txOpti_te, yOpti_te, idsOpti_te = dataClean(tx_te, y_te)"
   ]
  },
  {
   "cell_type": "code",
   "execution_count": 14,
   "id": "75a37b1a-db2d-4d02-9ac0-d2b1d374fd4f",
   "metadata": {},
   "outputs": [
    {
     "name": "stdout",
     "output_type": "stream",
     "text": [
      "(568238, 30)\n",
      "(250000, 30)\n",
      "(568238,)\n",
      "(250000,)\n"
     ]
    }
   ],
   "source": [
    "print(tx_te.shape)\n",
    "print(tx_tr.shape)\n",
    "print(y_te.shape)\n",
    "print(y_tr.shape)"
   ]
  },
  {
   "cell_type": "code",
   "execution_count": 29,
   "id": "3fb0a996-432c-467f-8db5-698cc59b099a",
   "metadata": {},
   "outputs": [
    {
     "name": "stdout",
     "output_type": "stream",
     "text": [
      "0.0\n",
      "1.0\n",
      "2.0\n",
      "3.0\n"
     ]
    }
   ],
   "source": [
    "test0 = tx_te[idsOpti_te[0]]\n",
    "test1 = tx_te[idsOpti_te[1]]\n",
    "test2 = tx_te[idsOpti_te[2]]\n",
    "test3 = tx_te[idsOpti_te[3]]\n",
    "print(np.mean(test0, axis=0)[22])\n",
    "print(np.mean(test1, axis=0)[22])\n",
    "print(np.mean(test2, axis=0)[22])\n",
    "print(np.mean(test3, axis=0)[22])"
   ]
  },
  {
   "cell_type": "code",
   "execution_count": 33,
   "id": "2c3fe178-7ebd-4e22-bb20-22aae7721d91",
   "metadata": {},
   "outputs": [
    {
     "name": "stdout",
     "output_type": "stream",
     "text": [
      "[ 0 10  2 11  4 12  6  7  8  9]\n"
     ]
    }
   ],
   "source": [
    "a = np.arange(10)\n",
    "b = [1, 3, 5]\n",
    "c = [10, 11, 12]\n",
    "a[b] = c\n",
    "print(a)"
   ]
  },
  {
   "cell_type": "code",
   "execution_count": 16,
   "id": "3e2a7cf8-fd96-4e26-b6d1-3f13a27203ff",
   "metadata": {},
   "outputs": [],
   "source": [
    "y_pred = np.zeros(len(ids_te))\n",
    "degree = 2\n",
    "\n",
    "for i in range(4):\n",
    "    t = build_poly(txOpti_te[i], degree)\n",
    "    predicted = predict(ws[i], t)\n",
    "    # predicted[np.where(predicted == 0)] = -1\n",
    "    y_pred[idsOpti_te[i]] = predicted"
   ]
  },
  {
   "cell_type": "code",
   "execution_count": 20,
   "id": "aede8ae1-c249-42ef-85b6-43e4cc552dd6",
   "metadata": {},
   "outputs": [
    {
     "name": "stdout",
     "output_type": "stream",
     "text": [
      "0\n",
      "1\n",
      "2\n",
      "3\n",
      "0.787200000000000\n"
     ]
    }
   ],
   "source": [
    "y_pred = np.zeros(len(ids_tr))\n",
    "degree = 2\n",
    "\n",
    "for i in range(4):\n",
    "    print(i)\n",
    "    t = build_poly(txOpti[i], degree)\n",
    "    predicted = predict(ws[i], t)\n",
    "    # predicted[np.where(predicted == 0)] = -1\n",
    "    y_pred[idsOpti[i]] = predicted\n",
    "\n",
    "acc = calculate_accuracy(y_tr, y_pred)\n",
    "print(f'{acc:.15f}')"
   ]
  },
  {
   "cell_type": "code",
   "execution_count": 42,
   "id": "d47f0738-ee0b-4b5d-a98d-13c709b19567",
   "metadata": {},
   "outputs": [
    {
     "name": "stdout",
     "output_type": "stream",
     "text": [
      "161349\n"
     ]
    }
   ],
   "source": [
    "print(yOpti"
   ]
  },
  {
   "cell_type": "code",
   "execution_count": 19,
   "id": "98e57299-1580-4542-a1f6-9cfd52e6205c",
   "metadata": {},
   "outputs": [
    {
     "name": "stdout",
     "output_type": "stream",
     "text": [
      "568238\n",
      "918237\n"
     ]
    }
   ],
   "source": [
    "print(len(ids_te))\n",
    "print(max(ids_te))"
   ]
  },
  {
   "cell_type": "markdown",
   "id": "ec76993b-8752-49f0-91b9-51cdd346541d",
   "metadata": {},
   "source": [
    "# Generated submission file"
   ]
  },
  {
   "cell_type": "code",
   "execution_count": 78,
   "id": "fef28071-e6d7-4589-b7c9-35f83cf74996",
   "metadata": {},
   "outputs": [],
   "source": [
    "OUTPUT_PATH = 'ridge-submission'\n",
    "create_csv_submission(ids_te, y_pred, OUTPUT_PATH)"
   ]
  },
  {
   "cell_type": "code",
   "execution_count": 81,
   "id": "0b851d79-1ce7-4c48-986d-cb499bf823bc",
   "metadata": {},
   "outputs": [
    {
     "name": "stdout",
     "output_type": "stream",
     "text": [
      "0.8329537975285004\n"
     ]
    }
   ],
   "source": []
  },
  {
   "cell_type": "code",
   "execution_count": null,
   "id": "359e3fd0-7ed7-44b2-bbce-2e0cce3ffa8e",
   "metadata": {},
   "outputs": [],
   "source": []
  }
 ],
 "metadata": {
  "kernelspec": {
   "display_name": "Python",
   "language": "python",
   "name": "python3"
  },
  "language_info": {
   "codemirror_mode": {
    "name": "ipython",
    "version": 3
   },
   "file_extension": ".py",
   "mimetype": "text/x-python",
   "name": "python",
   "nbconvert_exporter": "python",
   "pygments_lexer": "ipython3",
   "version": "3.8.10"
  }
 },
 "nbformat": 4,
 "nbformat_minor": 5
}
