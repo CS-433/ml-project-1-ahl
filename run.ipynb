{
 "cells": [
  {
   "cell_type": "code",
   "execution_count": 1,
   "id": "882a9018-5319-4a82-87e7-2b0d420475bb",
   "metadata": {},
   "outputs": [],
   "source": [
    "import numpy as np \n",
    "from implementations import *\n",
    "from helpers import *\n",
    "from helper_functions import *\n",
    "from optimization import *\n",
    "%load_ext autoreload\n",
    "%autoreload 2"
   ]
  },
  {
   "cell_type": "code",
   "execution_count": 2,
   "id": "6001fe01-6df9-475b-9bd1-0dc91e667ece",
   "metadata": {},
   "outputs": [],
   "source": [
    "%reload_ext autoreload"
   ]
  },
  {
   "cell_type": "code",
   "execution_count": 3,
   "id": "6d56f0e3-9ee7-448f-a9dd-dd349209cc8b",
   "metadata": {},
   "outputs": [
    {
     "name": "stdout",
     "output_type": "stream",
     "text": [
      "loading the training dataset\n",
      "training dataset loaded\n"
     ]
    }
   ],
   "source": [
    "# load the training dataset\n",
    "print(\"loading the training dataset\")\n",
    "DATA_TRAIN_PATH = 'train.csv'\n",
    "y_tr, tx_tr, ids_tr = load_csv_data(DATA_TRAIN_PATH)\n",
    "print(\"training dataset loaded\")"
   ]
  },
  {
   "cell_type": "code",
   "execution_count": 4,
   "id": "af90503c-e3fa-4e1b-a222-63ef11b39a80",
   "metadata": {},
   "outputs": [
    {
     "name": "stdout",
     "output_type": "stream",
     "text": [
      "loading the test dataset\n",
      "test dataset loaded\n"
     ]
    }
   ],
   "source": [
    "# load the test dataset\n",
    "print(\"loading the test dataset\")\n",
    "DATA_TEST_PATH = 'test.csv'\n",
    "y_te, tx_te, ids_te = load_csv_data(DATA_TEST_PATH)\n",
    "print(\"test dataset loaded\")"
   ]
  },
  {
   "cell_type": "code",
   "execution_count": 7,
   "id": "fa8da103-df5b-4f1e-b595-9ae0cd91750e",
   "metadata": {},
   "outputs": [
    {
     "name": "stdout",
     "output_type": "stream",
     "text": [
      "the shape of the training y is (250000,) and the training tx is (250000, 30)\n",
      "the shape of the test y is (568238,) and the test tx is (568238, 30)\n"
     ]
    }
   ],
   "source": [
    "# printing the shapes of the arrays\n",
    "print(f'the shape of the training y is {y_tr.shape} and the training tx is {tx_tr.shape}')\n",
    "print(f'the shape of the test y is {y_te.shape} and the test tx is {tx_te.shape}')"
   ]
  },
  {
   "cell_type": "code",
   "execution_count": 7,
   "id": "b5e092ef-cd07-432f-83fc-1472fc29ddb9",
   "metadata": {},
   "outputs": [],
   "source": [
    "np.set_printoptions(formatter={'float': lambda x: \"{0:10.3f}\".format(x)})\n",
    "\n",
    "def print_col_info(t):\n",
    "    mean_ = np.nanmean(t, axis=0)\n",
    "    max_ = np.nanmax(t, axis=0)\n",
    "    min_ = np.nanmin(t, axis=0)\n",
    "    median_ = np.nanmedian(t, axis=0)\n",
    "    std_ = np.nanstd(t, axis=0)\n",
    "    print(t.shape)\n",
    "\n",
    "    table = np.vstack([range(t.shape[1]), mean_, max_, min_, median_, std_])\n",
    "\n",
    "    for line in table.T:\n",
    "        print(line)"
   ]
  },
  {
   "cell_type": "code",
   "execution_count": 8,
   "id": "d6884129-6892-4ec8-bce6-fe61104b9ff5",
   "metadata": {},
   "outputs": [
    {
     "name": "stdout",
     "output_type": "stream",
     "text": [
      "test mean square GD\n",
      "Current iteration=0\t the loss=0.1176670\t the grad=0.5271830\n",
      "Current iteration=10\t the loss=0.0819012\t the grad=0.0148576\n",
      "Current iteration=20\t the loss=0.0817723\t the grad=0.0031852\n",
      "Current iteration=30\t the loss=0.0817611\t the grad=0.0012227\n",
      "Current iteration=40\t the loss=0.0817590\t the grad=0.0005862\n",
      "Current iteration=50\t the loss=0.0817585\t the grad=0.0003265\n",
      "Current iteration=60\t the loss=0.0817583\t the grad=0.0001973\n",
      "Current iteration=62\t the loss=0.0817583\t the grad=0.0001794\n",
      "end of the mean_squared_error_gd with w= [     0.343      0.090     -0.120      0.030     -0.026     -0.011\n",
      "     -0.004     -0.016     -0.015     -0.013     -0.014     -0.040\n",
      "      0.053      0.063      0.042     -0.001     -0.000     -0.005\n",
      "      0.002      0.002     -0.022     -0.000      0.005      0.026\n",
      "      0.020     -0.002     -0.001     -0.001     -0.000     -0.001\n",
      "      0.014]  and loss= 0.0817582975816111\n",
      "the accuracy of the method is acc= 0.761\n",
      "end of mean square GD\n"
     ]
    }
   ],
   "source": [
    "# testing the mean square gd\n",
    "print(\"test mean square GD\") \n",
    "#y_tr[np.where(y_tr == 0)] = -1\n",
    "y_tr[np.where(y_tr == -1)] = 0\n",
    "txOpti = dataClean_without_splitting(tx_tr)\n",
    "\n",
    "initial_w = np.zeros(txOpti.shape[1])\n",
    "max_iters = 100\n",
    "gamma = 0.3 #best gamma here\n",
    "w, loss = mean_squared_error_gd(y_tr, txOpti, initial_w, max_iters, gamma)\n",
    "print(\"end of the mean_squared_error_gd with w=\",w,\" and loss=\", loss)\n",
    "\n",
    "label = predict(w, txOpti)\n",
    "y_tr[np.where(y_tr == 0)] = -1\n",
    "acc = calculate_accuracy(y_tr, label)\n",
    "print(\"the accuracy of the method is acc=\",acc)\n",
    "print(\"end of mean square GD\")"
   ]
  },
  {
   "cell_type": "code",
   "execution_count": 15,
   "id": "56180f30-5013-4162-b64b-e435e36f9806",
   "metadata": {},
   "outputs": [
    {
     "name": "stdout",
     "output_type": "stream",
     "text": [
      "test mean square GD with spliting\n",
      "shape of txOpti[i]  (99913, 19)\n",
      "Current iteration=0\t the loss=0.0882093\t the grad=0.4316712\n",
      "Current iteration=25\t the loss=0.0694140\t the grad=0.0023148\n",
      "Current iteration=50\t the loss=0.0694055\t the grad=0.0003233\n",
      "Current iteration=58\t the loss=0.0694053\t the grad=0.0001792\n",
      "end of the least_square with w= [     0.255      0.030     -0.062     -0.000     -0.005      0.032\n",
      "     -0.005      0.078     -0.076     -0.001      0.018     -0.001\n",
      "     -0.002     -0.037      0.008     -0.001     -0.087     -0.002\n",
      "      0.016]  and loss= 0.06940534792972657\n",
      "shape of txOpti[i]  (77544, 23)\n",
      "Current iteration=0\t the loss=0.1272059\t the grad=0.4789405\n",
      "Current iteration=25\t the loss=0.0908357\t the grad=0.0031104\n",
      "Current iteration=50\t the loss=0.0908197\t the grad=0.0004366\n",
      "Current iteration=62\t the loss=0.0908195\t the grad=0.0001722\n",
      "end of the least_square with w= [     0.357      0.119     -0.108      0.006     -0.004     -0.027\n",
      "      0.011     -0.013     -0.046      0.050      0.041     -0.001\n",
      "      0.000      0.011     -0.003      0.005     -0.012      0.002\n",
      "      0.002      0.019     -0.002      0.001      0.019]  and loss= 0.09081945696069274\n",
      "shape of txOpti[i]  (50379, 30)\n",
      "Current iteration=0\t the loss=0.1587760\t the grad=0.6632477\n",
      "Current iteration=25\t the loss=0.0872088\t the grad=0.0043406\n",
      "Current iteration=50\t the loss=0.0871751\t the grad=0.0007346\n",
      "Current iteration=71\t the loss=0.0871741\t the grad=0.0001848\n",
      "end of the least_square with w= [     0.511      0.155     -0.049      0.018      0.045     -0.002\n",
      "      0.014     -0.028     -0.030     -0.036     -0.036     -0.026\n",
      "      0.052      0.117      0.026     -0.001      0.001     -0.004\n",
      "     -0.004      0.000     -0.025      0.002     -0.025      0.023\n",
      "     -0.000     -0.001      0.026     -0.001     -0.003      0.021]  and loss= 0.08717406728303581\n",
      "shape of txOpti[i]  (22164, 30)\n",
      "Current iteration=0\t the loss=0.1174953\t the grad=0.3745001\n",
      "Current iteration=25\t the loss=0.0888071\t the grad=0.0034085\n",
      "Current iteration=50\t the loss=0.0887878\t the grad=0.0005575\n",
      "Current iteration=70\t the loss=0.0887871\t the grad=0.0001826\n",
      "end of the least_square with w= [     0.304      0.148     -0.051      0.003      0.056     -0.014\n",
      "     -0.009     -0.026     -0.038     -0.013     -0.032     -0.019\n",
      "      0.036      0.005      0.024     -0.007      0.001     -0.009\n",
      "      0.003      0.001     -0.012      0.007     -0.024      0.001\n",
      "     -0.006      0.001      0.012      0.006      0.002      0.006]  and loss= 0.08878713517956718\n",
      "the accuracy on the train set is  0.8131374295637205\n",
      "the accuracy on the train set is  0.7321649644073043\n",
      "the accuracy on the train set is  0.7477321899998015\n",
      "the accuracy on the train set is  0.7285688503880166\n",
      "the total accuracy on the train set is  0.7554008585897106\n"
     ]
    }
   ],
   "source": [
    "#testing mean square GD with spliting the data \n",
    "print(\"test mean square GD with spliting\") \n",
    "#y_tr[np.where(y_tr == 0)] = -1\n",
    "y_tr[np.where(y_tr == -1)] = 0\n",
    "\n",
    "txOpti, yOpti, idsOpti = dataClean(tx_tr, y_tr)\n",
    "ws = []\n",
    "losses = []\n",
    "max_iters = 200\n",
    "gamma = 0.3\n",
    "\n",
    "for i in range(4): \n",
    "    print(\"shape of txOpti[i] \", txOpti[i].shape)\n",
    "    initial_w = np.zeros(txOpti[i].shape[1])\n",
    "    # initial_w = ws\n",
    "    w, loss = mean_squared_error_gd(yOpti[i], txOpti[i], initial_w, max_iters, gamma)\n",
    "    losses.append(loss) \n",
    "    ws.append(w)\n",
    "    print(\"end of the least_square with w=\",w,\" and loss=\", loss)\n",
    "    \n",
    "accs = []\n",
    "labels = []\n",
    "for i in range(4): \n",
    "    label = predict(ws[i], txOpti[i])\n",
    "    yOpti[i][np.where(yOpti[i] == 0)] = -1\n",
    "    acc = calculate_accuracy(yOpti[i], label)\n",
    "    print(\"the accuracy on the train set is \", acc)\n",
    "    accs.append(acc)\n",
    "    labels.append(label)\n",
    "    \n",
    "accTot = (accs[0] + accs[1] + accs[2] + accs[3])/4\n",
    "print(\"the total accuracy on the train set is \", accTot)"
   ]
  },
  {
   "cell_type": "code",
   "execution_count": 16,
   "id": "b0c1077a-ee73-4b34-b546-b7f1910ff3fb",
   "metadata": {},
   "outputs": [
    {
     "name": "stdout",
     "output_type": "stream",
     "text": [
      "test mean square SGD\n",
      "Current iteration=0\t the loss=0.0848699\t the grad=4.4272075\n",
      "Current iteration=25\t the loss=0.0113748\t the grad=1.62929178\n",
      "Current iteration=50\t the loss=0.0022188\t the grad=1.5002008\n",
      "Current iteration=75\t the loss=0.0637552\t the grad=8.31897734\n",
      "Current iteration=100\t the loss=0.0557767\t the grad=4.2659434\n",
      "Current iteration=125\t the loss=0.0631818\t the grad=6.8008771\n",
      "Current iteration=150\t the loss=0.1368293\t the grad=6.86031757\n",
      "Current iteration=175\t the loss=0.0101451\t the grad=1.78398114\n",
      "end of the mean_squared_error_sgd with w= [    -0.145      0.137     -0.256      0.020     -0.048     -0.137\n",
      "      0.324     -0.614      0.063     -0.062     -0.074      0.493\n",
      "      0.147      0.262     -0.049      0.064     -0.064      0.033\n",
      "     -0.211      0.159     -0.086      0.182      0.041      0.129\n",
      "      0.119     -0.009     -0.210      0.031      0.364      0.114\n",
      "      0.056]  and loss= 0.02758508732088929\n",
      "the accuracy of the method is acc= 0.649984\n",
      "end of mean square SGD\n"
     ]
    }
   ],
   "source": [
    "#test mean square SGD\n",
    "print(\"test mean square SGD\")\n",
    "y_tr[np.where(y_tr == 0)] = -1\n",
    "#y_tr[np.where(y_tr == -1)] = 0\n",
    "txOpti = dataClean_without_splitting(tx_tr)\n",
    "\n",
    "initial_w = np.zeros(txOpti.shape[1])\n",
    "max_iters = 200\n",
    "gamma = 0.03\n",
    "w, loss = mean_squared_error_sgd(y_tr, txOpti, initial_w, max_iters, gamma)\n",
    "print(\"end of the mean_squared_error_sgd with w=\",w,\" and loss=\", loss)\n",
    "\n",
    "label = predict(w, txOpti)\n",
    "#y_tr[np.where(y_tr == 0)] = -1\n",
    "acc = calculate_accuracy(y_tr, label)\n",
    "print(\"the accuracy of the method is acc=\",acc)\n",
    "print(\"end of mean square SGD\")"
   ]
  },
  {
   "cell_type": "code",
   "execution_count": 17,
   "id": "ad472f25-7c3d-4e36-8b40-b5e0289764a7",
   "metadata": {},
   "outputs": [
    {
     "name": "stdout",
     "output_type": "stream",
     "text": [
      "test mean square SGD with spliting\n",
      "shape of txOpti[i]  (99913, 19)\n",
      "Current iteration=0\t the loss=0.0412636\t the grad=4.8741653\n",
      "Current iteration=25\t the loss=0.1833951\t the grad=5.90437427\n",
      "Current iteration=50\t the loss=0.1698078\t the grad=4.3910432\n",
      "Current iteration=75\t the loss=0.0244233\t the grad=0.6722776\n",
      "end of the least_square with w= [    -0.461     -0.001     -0.121     -0.007     -0.089     -0.150\n",
      "     -0.089      0.123     -0.012     -0.066     -0.021     -0.125\n",
      "     -0.117     -0.099     -0.014      0.135     -0.152     -0.043\n",
      "      0.034]  and loss= 0.044599909673553054\n",
      "shape of txOpti[i]  (77544, 23)\n",
      "Current iteration=0\t the loss=0.0715228\t the grad=4.5526050\n",
      "Current iteration=25\t the loss=0.0686201\t the grad=2.1498725\n",
      "Current iteration=50\t the loss=0.0909811\t the grad=5.3024104\n",
      "Current iteration=75\t the loss=0.1468967\t the grad=6.92107945\n",
      "end of the least_square with w= [    -0.280      0.099     -0.378      0.060     -0.078     -0.109\n",
      "     -0.011     -0.233     -0.089      0.129      0.036      0.287\n",
      "     -0.140     -0.067     -0.332      0.183      0.121     -0.029\n",
      "     -0.097      0.102      0.017      0.239      0.102]  and loss= 0.0026375021337914457\n",
      "shape of txOpti[i]  (50379, 30)\n",
      "Current iteration=0\t the loss=0.0106304\t the grad=5.3360069\n",
      "Current iteration=25\t the loss=0.0207442\t the grad=8.0637280\n",
      "Current iteration=50\t the loss=0.0224751\t the grad=8.07706871\n",
      "Current iteration=75\t the loss=0.0926495\t the grad=8.96159003\n",
      "end of the least_square with w= [    -0.082      0.253     -0.053      0.122      0.218      0.277\n",
      "      0.032     -0.251      0.045     -0.188     -0.251     -0.117\n",
      "     -0.004      0.309      0.042     -0.019      0.214     -0.105\n",
      "     -0.136      0.092      0.113     -0.031     -0.271      0.009\n",
      "     -0.104     -0.312     -0.048      0.047      0.032     -0.116]  and loss= 0.06724354939332124\n",
      "shape of txOpti[i]  (22164, 30)\n",
      "Current iteration=0\t the loss=0.0454314\t the grad=4.8255070\n",
      "Current iteration=25\t the loss=0.0801947\t the grad=6.2158335\n",
      "Current iteration=50\t the loss=0.1296501\t the grad=5.83049916\n",
      "Current iteration=75\t the loss=0.0010805\t the grad=4.41144744\n",
      "end of the least_square with w= [    -0.332      0.506      0.317      0.010      0.240     -0.007\n",
      "      0.074     -0.044     -0.116     -0.184      0.106      0.051\n",
      "      0.192      0.247     -0.077      0.100      0.045     -0.116\n",
      "     -0.025     -0.039      0.021      0.214     -0.116     -0.182\n",
      "     -0.181      0.189      0.021     -0.129     -0.155      0.079]  and loss= 0.17238481446046433\n",
      "the accuracy on the train set is  0.7457087666269655\n",
      "the accuracy on the train set is  0.6489090064995358\n",
      "the accuracy on the train set is  0.6306794497707378\n",
      "the accuracy on the train set is  0.6695993502977802\n",
      "the total accuracy on the train set is  0.6737241432987549\n"
     ]
    }
   ],
   "source": [
    "#testing mean square SGD with spliting the data \n",
    "print(\"test mean square SGD with spliting\") \n",
    "y_tr[np.where(y_tr == 0)] = -1\n",
    "#y_tr[np.where(y_tr == -1)] = 0\n",
    "\n",
    "txOpti, yOpti, idsOpti = dataClean(tx_tr, y_tr)\n",
    "ws = []\n",
    "losses = []\n",
    "max_iters = 100\n",
    "gamma = 0.03\n",
    "\n",
    "for i in range(4): \n",
    "    print(\"shape of txOpti[i] \", txOpti[i].shape)\n",
    "    initial_w = np.zeros(txOpti[i].shape[1])\n",
    "    w, loss = mean_squared_error_sgd(yOpti[i], txOpti[i], initial_w, max_iters, gamma)\n",
    "    losses.append(loss) \n",
    "    ws.append(w)\n",
    "    print(\"end of the least_square with w=\",w,\" and loss=\", loss)\n",
    "    \n",
    "accs = []\n",
    "labels = []\n",
    "for i in range(4): \n",
    "    label = predict(ws[i], txOpti[i])\n",
    "    #yOpti[i][np.where(yOpti[i] == 0)] = -1\n",
    "    acc = calculate_accuracy(yOpti[i], label)\n",
    "    print(\"the accuracy on the train set is \", acc)\n",
    "    accs.append(acc)\n",
    "    labels.append(label)\n",
    "    \n",
    "accTot = (accs[0] + accs[1] + accs[2] + accs[3])/4\n",
    "print(\"the total accuracy on the train set is \", accTot)"
   ]
  },
  {
   "cell_type": "code",
   "execution_count": 18,
   "id": "3abc58ab-10d3-4a01-b62a-6e3445c65b5b",
   "metadata": {},
   "outputs": [
    {
     "name": "stdout",
     "output_type": "stream",
     "text": [
      "test least square\n",
      "end of the least_squares with w= [     0.343      0.091     -0.120      0.030     -0.026     -0.011\n",
      "     -0.004     -0.016     -0.015     -0.013     -0.015     -0.040\n",
      "      0.053      0.063      0.042     -0.001     -0.000     -0.005\n",
      "      0.002      0.002     -0.022     -0.000      0.005      0.026\n",
      "      0.020     -0.002     -0.001     -0.001     -0.000     -0.001\n",
      "      0.014]  and loss= 0.08175819768998804\n",
      "the accuracy of the method is acc= 0.760976\n"
     ]
    }
   ],
   "source": [
    "# test least square\n",
    "print(\"test least square\")\n",
    "#y_tr[np.where(y_tr == 0)] = -1\n",
    "y_tr[np.where(y_tr == -1)] = 0\n",
    "txOpti = dataClean_without_splitting(tx_tr)\n",
    "w, loss = least_squares(y_tr, txOpti)\n",
    "\n",
    "label = predict(w, txOpti)\n",
    "y_tr[np.where(y_tr == 0)] = -1\n",
    "acc = calculate_accuracy(y_tr, label)\n",
    "print(\"end of the least_squares with w=\",w,\" and loss=\", loss)\n",
    "print(\"the accuracy of the method is acc=\",acc)"
   ]
  },
  {
   "cell_type": "code",
   "execution_count": 4,
   "id": "d29301f8-cf86-4615-8965-ccd4864ecef0",
   "metadata": {},
   "outputs": [
    {
     "name": "stdout",
     "output_type": "stream",
     "text": [
      "test the least square with spliting the dataset\n",
      "shape of txOpti[i]  (99913, 19)\n",
      "end of the least_square with w= [ 2.55141974e-01  3.04645019e-02 -6.19698357e-02 -2.03505638e-04\n",
      "  3.13853233e+02  3.24178718e-02 -3.13863690e+02  7.82816538e-02\n",
      " -7.56286022e-02 -6.91809911e-04  1.78507108e-02 -8.02198236e-04\n",
      " -1.91742772e-03 -3.72980905e-02  7.81616762e-03 -7.75765026e-04\n",
      " -8.73852713e-02 -2.33561476e-03  1.61625193e-02]  and loss= 0.06940501382214669\n",
      "shape of txOpti[i]  (77544, 23)\n",
      "end of the least_square with w= [ 3.57345507e-01  1.19906474e-01 -1.07631097e-01  5.59723769e-03\n",
      " -3.79662365e-03 -2.69521777e-02  1.14745969e-02 -1.35846280e-02\n",
      " -4.56191405e-02  4.95796856e-02  4.10161712e-02 -5.13594962e-04\n",
      "  2.50543402e-04  1.12195754e-02 -2.61774255e-03  4.65891254e-03\n",
      " -1.19712234e-02  1.62412443e-03  2.33449007e-03 -2.01364464e+02\n",
      " -2.27352165e-03  1.18861529e-03  2.01402301e+02]  and loss= 0.09081924257946217\n",
      "shape of txOpti[i]  (50379, 30)\n",
      "end of the least_square with w= [ 5.10808075e-01  1.55319553e-01 -4.84973629e-02  1.77087767e-02\n",
      "  4.47556663e-02 -2.20946905e-03  1.40438790e-02 -2.83363849e-02\n",
      " -3.00711824e-02 -3.56973554e-02 -3.68061447e-02 -2.60964268e-02\n",
      "  5.15172835e-02  1.16741640e-01  2.63157972e-02 -7.33323346e-04\n",
      "  1.06000432e-03 -3.68299772e-03 -3.50735800e-03  2.13726258e-04\n",
      " -2.49834404e-02  2.43503520e-03 -2.53331592e-02  2.30027731e-02\n",
      " -1.05302025e-04 -5.84121866e-04  2.59141636e-02 -1.38171262e-03\n",
      " -2.62857302e-03  2.12656481e-02]  and loss= 0.08717399061994073\n",
      "shape of txOpti[i]  (22164, 30)\n",
      "end of the least_square with w= [ 0.30369067  0.14790651 -0.05140517  0.00258355  0.05622056 -0.01393472\n",
      " -0.00866956 -0.02648816 -0.03748014 -0.01273113 -0.03311901 -0.01942632\n",
      "  0.03610742  0.0048777   0.02398118 -0.0068282   0.00075979 -0.00884642\n",
      "  0.00307311  0.00058001 -0.01164433  0.00729806 -0.02368782  0.00111411\n",
      " -0.00561326  0.00051323  0.01207804  0.00587411  0.00204413  0.00622596]  and loss= 0.08878703991889393\n",
      "the accuracy on the train set is  0.813147438271296\n",
      "the accuracy on the train set is  0.7321262766945218\n",
      "the accuracy on the train set is  0.747513845054487\n",
      "the accuracy on the train set is  0.7285237321783071\n",
      "the total accuracy on the train set is  0.755327823049653\n"
     ]
    }
   ],
   "source": [
    "# test least square with spliting data\n",
    "print(\"test the least square with spliting the dataset\")\n",
    "y_tr[np.where(y_tr == -1)] = 0\n",
    "#y_tr[np.where(y_tr == 0)] = -1\n",
    "txOpti, yOpti, idsOpti = dataClean(tx_tr, y_tr)\n",
    "ws = []\n",
    "losses = []\n",
    "\n",
    "for i in range(4): \n",
    "    print(\"shape of txOpti[i] \", txOpti[i].shape)\n",
    "    w, loss = least_squares(yOpti[i], txOpti[i])\n",
    "    losses.append(loss) \n",
    "    ws.append(w)\n",
    "    print(\"end of the least_square with w=\",w,\" and loss=\", loss)\n",
    "    \n",
    "accs = []\n",
    "labels = []\n",
    "for i in range(4): \n",
    "    label = predict(ws[i], txOpti[i])\n",
    "    yOpti[i][np.where(yOpti[i] == 0)] = -1\n",
    "    acc = calculate_accuracy(yOpti[i], label)\n",
    "    print(\"the accuracy on the train set is \", acc)\n",
    "    accs.append(acc)\n",
    "    labels.append(label)\n",
    "    \n",
    "accTot = (accs[0] + accs[1] + accs[2] + accs[3])/4\n",
    "print(\"the total accuracy on the train set is \", accTot)"
   ]
  },
  {
   "cell_type": "code",
   "execution_count": 5,
   "id": "e012b4e7-4af4-41b3-b145-6006f6bd85b7",
   "metadata": {},
   "outputs": [
    {
     "name": "stdout",
     "output_type": "stream",
     "text": [
      "(19,)\n",
      "(99913, 19)\n",
      "(23,)\n",
      "(77544, 23)\n",
      "(30,)\n",
      "(50379, 30)\n",
      "(30,)\n",
      "(22164, 30)\n"
     ]
    }
   ],
   "source": [
    "for i in range(4):\n",
    "    print(ws[i].shape)\n",
    "    print(txOpti[i].shape)"
   ]
  },
  {
   "cell_type": "code",
   "execution_count": 21,
   "id": "34c8ae3d-d431-4939-8e10-d0915a0fc194",
   "metadata": {},
   "outputs": [
    {
     "name": "stdout",
     "output_type": "stream",
     "text": [
      "test ridge regression\n",
      "shape of txOpti  (250000, 31)\n",
      "best lambda is  1e-06  and the best degree is  2\n",
      "end of the logistic_regression with w= [     0.110      0.110      0.103     -0.109      0.020     -0.026\n",
      "     -0.009     -0.032     -0.012     -0.016     -0.012     -0.054\n",
      "     -0.054      0.040      0.063      0.048     -0.001     -0.000\n",
      "      0.015      0.002      0.002     -0.031     -0.000      0.020\n",
      "     -0.007      0.021     -0.002     -0.001      0.020     -0.000\n",
      "     -0.000      0.081      0.110     -0.024     -0.000     -0.021\n",
      "      0.008      0.004      0.007     -0.000     -0.005      0.003\n",
      "      0.018      0.020      0.046     -0.004     -0.010     -0.004\n",
      "     -0.001     -0.013     -0.008     -0.002      0.008      0.001\n",
      "     -0.013      0.035     -0.004      0.009      0.000     -0.005\n",
      "      0.002     -0.004     -0.030]  and loss= 0.07827237263520095\n",
      "the accuracy on the train set is  0.78142\n"
     ]
    }
   ],
   "source": [
    "# test ridge regression \n",
    "print(\"test ridge regression\")\n",
    "y_tr[np.where(y_tr == -1)] = 0\n",
    "txOpti = dataClean_without_splitting(tx_tr)\n",
    "print(\"shape of txOpti \", txOpti.shape)\n",
    "\n",
    "lambda_, degree = best_lambda_degree(y_tr, txOpti, 4, np.logspace(-6, 0, 30), np.arange(2,5), 1)\n",
    "print(\"best lambda is \",lambda_,\" and the best degree is \", degree)\n",
    "\n",
    "txOpti_poly = build_poly(txOpti, degree)\n",
    "\n",
    "w, loss = ridge_regression(y_tr, txOpti_poly, lambda_)\n",
    "\n",
    "label = predict(w, txOpti_poly)\n",
    "y_tr[np.where(y_tr == 0)] = -1\n",
    "acc = calculate_accuracy(y_tr, label)\n",
    "\n",
    "print(\"end of the logistic_regression with w=\",w,\" and loss=\", loss)\n",
    "print(\"the accuracy on the train set is \", acc)\n",
    "\n",
    "#y_pred = predict(w, tx_te)\n",
    "#y_pred[y_pred==0] = -1\n",
    "\n",
    "#OUTPUT_PATH = 'sample-submission'\n",
    "#create_csv_submission(ids_te, y_pred, OUTPUT_PATH)"
   ]
  },
  {
   "cell_type": "code",
   "execution_count": 6,
   "id": "57b136b3-1f85-412e-a3f6-6133c06a594d",
   "metadata": {},
   "outputs": [
    {
     "name": "stdout",
     "output_type": "stream",
     "text": [
      "test ridge regression by spliting data\n",
      "shape of txOpti[0] (99913, 19)\n",
      "best lambda is  1e-06  and best degree is  1\n",
      "end of the ridge_regression with loss=0.06940528855719576\n",
      "shape of txOpti[1] (77544, 23)\n",
      "best lambda is  1e-06  and best degree is  1\n",
      "end of the ridge_regression with loss=0.0908194056759205\n",
      "shape of txOpti[2] (50379, 30)\n",
      "best lambda is  1e-06  and best degree is  1\n",
      "end of the ridge_regression with loss=0.08717399062025641\n",
      "shape of txOpti[3] (22164, 30)\n",
      "best lambda is  1e-06  and best degree is  1\n",
      "end of the ridge_regression with loss=0.08878703991906979\n",
      "the accuracy on the train set is  0.8131574469788716\n",
      "the accuracy on the train set is  0.7320875889817394\n",
      "the accuracy on the train set is  0.747513845054487\n",
      "the accuracy on the train set is  0.7285237321783071\n",
      "the total accuracy on the train set is  0.7553206532983512\n"
     ]
    }
   ],
   "source": [
    "# test ridge regression with spliting the data\n",
    "print(\"test ridge regression by spliting data\")\n",
    "\n",
    "y_tr[np.where(y_tr == -1)] = 0\n",
    "txOpti, yOpti, idsOpti = dataClean(tx_tr, y_tr)\n",
    "\n",
    "losses = []\n",
    "ws = []\n",
    "txPoly = [] \n",
    "for i in range(4): \n",
    "    print(f'shape of txOpti[{i}] {txOpti[i].shape}')\n",
    "    lambda_, degree = best_lambda_degree(yOpti[i], txOpti[i], 4, np.logspace(-6, 0, 30), np.arange(1, 5), 1)\n",
    "    print(\"best lambda is \",lambda_,\" and best degree is \", degree)\n",
    "    t = build_poly(txOpti[i], degree)\n",
    "    w, loss = ridge_regression(yOpti[i], t, lambda_)\n",
    "    losses.append(loss) \n",
    "    ws.append(w) \n",
    "    txPoly.append(t)\n",
    "    print(f'end of the ridge_regression with loss={loss}')\n",
    "\n",
    "\n",
    "accs = []\n",
    "labels = []\n",
    "for i in range(4): \n",
    "    label = predict(ws[i], txPoly[i])\n",
    "    yOpti[i][np.where(yOpti[i] == 0)] = -1\n",
    "    acc = calculate_accuracy(yOpti[i], label)\n",
    "    print(\"the accuracy on the train set is \", acc)\n",
    "    accs.append(acc)\n",
    "    labels.append(label)\n",
    "    \n",
    "accTot = (accs[0] + accs[1] + accs[2] + accs[3])/4\n",
    "print(\"the total accuracy on the train set is \", accTot)"
   ]
  },
  {
   "cell_type": "code",
   "execution_count": 26,
   "id": "d5f5c7de-0c97-4975-93cb-71f4916eb96e",
   "metadata": {},
   "outputs": [
    {
     "name": "stdout",
     "output_type": "stream",
     "text": [
      "shape of txOpti[i]  (99913, 19)\n",
      "Preiteration, the loss=0.9023999996647266, the grad=0.42567363610337283\n",
      "Current iteration=0\t the loss=0.8669964\t the grad=0.4256736\n",
      "Current iteration=25\t the loss=0.8223110\t the grad=0.0370658\n",
      "Current iteration=50\t the loss=0.8286025\t the grad=0.0130025\n",
      "Current iteration=75\t the loss=0.8307620\t the grad=0.0060880\n",
      "end of the logistic_regression with w= [    -1.523      0.096     -0.366      0.101     -0.025      0.292\n",
      "     -0.025      0.444     -0.530      0.001      0.115     -0.008\n",
      "     -0.014     -0.204      0.056     -0.002     -0.614     -0.019\n",
      "      0.129]  and loss= 0.8315736795015117\n",
      "shape of txOpti[i]  (77544, 23)\n",
      "Preiteration, the loss=0.8736879810552399, the grad=0.3493400704524976\n",
      "Current iteration=0\t the loss=0.8487077\t the grad=0.3493401\n",
      "Current iteration=25\t the loss=0.8288509\t the grad=0.0252360\n",
      "Current iteration=50\t the loss=0.8324185\t the grad=0.0087206\n",
      "Current iteration=75\t the loss=0.8328594\t the grad=0.0042534\n",
      "end of the logistic_regression with w= [    -0.792      0.646     -0.618      0.101     -0.014     -0.136\n",
      "      0.068     -0.058     -0.241      0.361      0.193     -0.004\n",
      "      0.003      0.037     -0.016      0.024     -0.058      0.008\n",
      "      0.009      0.096     -0.013      0.006      0.096]  and loss= 0.8328343600982739\n",
      "shape of txOpti[i]  (50379, 30)\n",
      "Preiteration, the loss=0.830575772040897, the grad=0.42318955307514045\n",
      "Current iteration=0\t the loss=0.7802044\t the grad=0.4231896\n",
      "Current iteration=25\t the loss=0.6956681\t the grad=0.0244353\n",
      "Current iteration=50\t the loss=0.6915462\t the grad=0.0106369\n",
      "Current iteration=75\t the loss=0.6902069\t the grad=0.0058434\n",
      "end of the logistic_regression with w= [     0.040      0.843     -0.298      0.144      0.248      0.013\n",
      "      0.071     -0.144     -0.144     -0.194     -0.160     -0.148\n",
      "      0.319      0.601      0.141     -0.005      0.006     -0.037\n",
      "     -0.019      0.000     -0.117      0.015     -0.146      0.116\n",
      "      0.000     -0.004      0.143     -0.006     -0.014      0.105]  and loss= 0.6895906281549239\n",
      "shape of txOpti[i]  (22164, 30)\n",
      "Preiteration, the loss=0.8887612240209609, the grad=0.2942102007130968\n",
      "Current iteration=0\t the loss=0.8780598\t the grad=0.2942102\n",
      "Current iteration=25\t the loss=0.8720084\t the grad=0.0281010\n",
      "Current iteration=50\t the loss=0.8749455\t the grad=0.0094240\n",
      "Current iteration=75\t the loss=0.8750555\t the grad=0.0043801\n",
      "end of the logistic_regression with w= [    -1.011      0.762     -0.339      0.070      0.326     -0.073\n",
      "     -0.040     -0.142     -0.176     -0.070     -0.158     -0.126\n",
      "      0.259      0.025      0.127     -0.039      0.002     -0.040\n",
      "      0.019     -0.002     -0.037      0.042     -0.141      0.009\n",
      "     -0.031     -0.000      0.063      0.031      0.009      0.015]  and loss= 0.8748975615846665\n",
      "the accuracy on the train set is  0.8145086225015764\n",
      "the accuracy on the train set is  0.7325260497266068\n",
      "the accuracy on the train set is  0.7490621092121718\n",
      "the accuracy on the train set is  0.7361487096192023\n",
      "the total accuracy on the train set is  0.7580613727648893\n"
     ]
    }
   ],
   "source": [
    "# test logistic regression\n",
    "\n",
    "y_tr[np.where(y_tr == -1)] = 0\n",
    "txOpti, yOpti, idsOpti = dataClean(tx_tr, y_tr)\n",
    "\n",
    "max_iters = 100\n",
    "gamma = 0.5\n",
    "ws = []\n",
    "losses = []\n",
    "\n",
    "for i in range(4): \n",
    "    print(\"shape of txOpti[i] \", txOpti[i].shape)\n",
    "    initial_w = np.zeros(txOpti[i].shape[1])\n",
    "    w, loss = logistic_regression(yOpti[i], txOpti[i], initial_w, max_iters, gamma)\n",
    "    ws.append(w)\n",
    "    losses.append(loss)\n",
    "    print(\"end of the logistic_regression with w=\",w,\" and loss=\", loss)\n",
    "\n",
    "    \n",
    "labels = []\n",
    "accs = []\n",
    "for i in range(4): \n",
    "    label = predict_logistic(ws[i], txOpti[i])\n",
    "    yOpti[i][np.where(yOpti[i] == 0)] = -1\n",
    "    acc = calculate_accuracy(yOpti[i], label)\n",
    "    print(\"the accuracy on the train set is \", acc)\n",
    "    accs.append(acc)\n",
    "    labels.append(label)\n",
    "\n",
    "accTot = (accs[0] + accs[1] + accs[2] + accs[3])/4\n",
    "print(\"the total accuracy on the train set is \", accTot)\n",
    "\n",
    "#y_pred = predict(w, teOpti)\n",
    "\n",
    "#OUTPUT_PATH = 'sample-submission LR 2'\n",
    "#create_csv_submission(ids_te, y_pred, OUTPUT_PATH)"
   ]
  },
  {
   "cell_type": "code",
   "execution_count": 12,
   "id": "273f5528-0c1a-40cc-b818-c2c1cb6dfe49",
   "metadata": {},
   "outputs": [],
   "source": [
    "OUTPUT_PATH = 'logreg_nosplit_072'\n",
    "create_csv_submission(ids_te, y_pred, OUTPUT_PATH)"
   ]
  },
  {
   "cell_type": "code",
   "execution_count": 34,
   "id": "f062a94a-ff3d-4d4d-88b2-66b0ca8bf65c",
   "metadata": {},
   "outputs": [
    {
     "name": "stdout",
     "output_type": "stream",
     "text": [
      "shape of txOpti  (250000, 31)\n",
      "shape of y  (250000,)\n",
      "Current iteration=0\t the loss=0.8374429\t the grad=0.4304113\n",
      "Current iteration=25\t the loss=0.8338336\t the grad=0.0000000\n",
      "Current iteration=50\t the loss=0.8338336\t the grad=0.0000000\n",
      "Current iteration=75\t the loss=0.8338336\t the grad=0.0000000\n",
      "end of the logistic_regression with loss= 0.8338335535064907\n",
      "the accuracy on the train set is  0.22644\n",
      "shape of teOpti  (568238, 31)\n"
     ]
    }
   ],
   "source": [
    "# test regularized logistic regression\n",
    "txOpti = dataClean_without_splitting(tx_tr)\n",
    "print(\"shape of txOpti \", txOpti.shape)\n",
    "print(\"shape of y \", y_tr.shape)\n",
    "initial_w = np.zeros(txOpti.shape[1])\n",
    "max_iters = 100\n",
    "gamma = 0.5\n",
    "lambda_ = 0.5\n",
    "\n",
    "w, loss = reg_logistic_regression(y_tr, txOpti, lambda_, initial_w, max_iters, gamma)\n",
    "\n",
    "label = predict_logistic(w, txOpti)\n",
    "acc = calculate_accuracy(y_tr, label)\n",
    "\n",
    "# print(\"end of the logistic_regression with w=\",w,\" and loss=\", loss)\n",
    "print(\"end of the logistic_regression with loss=\", loss)\n",
    "print(\"the accuracy on the train set is \", acc)\n",
    "\n",
    "teOpti = dataClean_without_splitting(tx_te)\n",
    "print(\"shape of teOpti \", teOpti.shape)\n",
    "\n",
    "y_pred = predict_logistic(w, teOpti)\n",
    "\n",
    "OUTPUT_PATH = 'sample-submission LR regression r=1.5, gamma,lambda=0.5'\n",
    "create_csv_submission(ids_te, y_pred, OUTPUT_PATH)"
   ]
  },
  {
   "cell_type": "code",
   "execution_count": 31,
   "id": "2d44796c-228e-46b0-8a37-699a3f746b76",
   "metadata": {},
   "outputs": [
    {
     "name": "stdout",
     "output_type": "stream",
     "text": [
      "shape of txOpti[i]  (99913, 19)\n",
      "Current iteration=0\t the loss=0.8669964\t the grad=0.4256736\n",
      "Current iteration=25\t the loss=0.8223108\t the grad=0.0370645\n",
      "Current iteration=50\t the loss=0.8286017\t the grad=0.0130014\n",
      "Current iteration=75\t the loss=0.8307608\t the grad=0.0060873\n",
      "end of the reg_logistic_regression with w= [    -1.523      0.096     -0.366      0.101     -0.025      0.292\n",
      "     -0.025      0.444     -0.530      0.001      0.115     -0.008\n",
      "     -0.014     -0.204      0.056     -0.002     -0.614     -0.019\n",
      "      0.129]  and loss= 0.8315723453390188\n",
      "shape of txOpti[i]  (77544, 23)\n",
      "Current iteration=0\t the loss=0.8487077\t the grad=0.3493401\n",
      "Current iteration=25\t the loss=0.8288506\t the grad=0.0252352\n",
      "Current iteration=50\t the loss=0.8324179\t the grad=0.0087200\n",
      "Current iteration=75\t the loss=0.8328588\t the grad=0.0042530\n",
      "end of the reg_logistic_regression with w= [    -0.792      0.646     -0.618      0.101     -0.014     -0.136\n",
      "      0.068     -0.058     -0.241      0.361      0.193     -0.004\n",
      "      0.003      0.037     -0.016      0.024     -0.058      0.008\n",
      "      0.009      0.096     -0.013      0.006      0.096]  and loss= 0.8328336881466237\n",
      "shape of txOpti[i]  (50379, 30)\n",
      "Current iteration=0\t the loss=0.7802044\t the grad=0.4231896\n",
      "Current iteration=25\t the loss=0.6956684\t the grad=0.0244345\n",
      "Current iteration=50\t the loss=0.6915466\t the grad=0.0106363\n",
      "Current iteration=75\t the loss=0.6902074\t the grad=0.0058429\n",
      "end of the reg_logistic_regression with w= [     0.040      0.843     -0.298      0.144      0.248      0.013\n",
      "      0.071     -0.144     -0.144     -0.194     -0.160     -0.148\n",
      "      0.319      0.601      0.141     -0.005      0.006     -0.037\n",
      "     -0.019      0.000     -0.117      0.015     -0.146      0.116\n",
      "      0.000     -0.004      0.143     -0.006     -0.014      0.105]  and loss= 0.6895911507287075\n",
      "shape of txOpti[i]  (22164, 30)\n",
      "Current iteration=0\t the loss=0.8780598\t the grad=0.2942102\n",
      "Current iteration=25\t the loss=0.8720080\t the grad=0.0281000\n",
      "Current iteration=50\t the loss=0.8749449\t the grad=0.0094234\n",
      "Current iteration=75\t the loss=0.8750548\t the grad=0.0043797\n",
      "end of the reg_logistic_regression with w= [    -1.011      0.762     -0.339      0.070      0.326     -0.073\n",
      "     -0.040     -0.142     -0.176     -0.070     -0.158     -0.126\n",
      "      0.259      0.025      0.127     -0.039      0.002     -0.040\n",
      "      0.019     -0.002     -0.037      0.042     -0.141      0.009\n",
      "     -0.031     -0.000      0.063      0.031      0.009      0.015]  and loss= 0.8748968030074915\n",
      "the accuracy on the train set is  0.8145086225015764\n",
      "the accuracy on the train set is  0.7325260497266068\n",
      "the accuracy on the train set is  0.7490621092121718\n",
      "the accuracy on the train set is  0.7361487096192023\n",
      "the total accuracy on the train set is  0.7580613727648893\n"
     ]
    }
   ],
   "source": [
    "#test logistic regularized regression with spliting data\n",
    "y_tr[np.where(y_tr == -1)] = 0\n",
    "txOpti, yOpti, idsOpti = dataClean(tx_tr, y_tr)\n",
    "\n",
    "max_iters = 100\n",
    "gamma = 0.5\n",
    "lambda_ = 1e-06\n",
    "ws = []\n",
    "losses = []\n",
    "\n",
    "for i in range(4): \n",
    "    print(f\"shape of txOpti[{i}] \", txOpti[i].shape)\n",
    "    initial_w = np.zeros(txOpti[i].shape[1])\n",
    "    w, loss = reg_logistic_regression(yOpti[i], txOpti[i], lambda_, initial_w, max_iters, gamma)\n",
    "    ws.append(w)\n",
    "    losses.append(loss)\n",
    "    print(\"end of the reg_logistic_regression with w=\",w,\" and loss=\", loss)\n",
    "\n",
    "    \n",
    "labels = []\n",
    "accs = []\n",
    "for i in range(4): \n",
    "    label = predict_logistic(ws[i], txOpti[i])\n",
    "    yOpti[i][np.where(yOpti[i] == 0)] = -1\n",
    "    acc = calculate_accuracy(yOpti[i], label)\n",
    "    print(\"the accuracy on the train set is \", acc)\n",
    "    accs.append(acc)\n",
    "    labels.append(label)\n",
    "\n",
    "accTot = (accs[0] + accs[1] + accs[2] + accs[3])/4\n",
    "print(\"the total accuracy on the train set is \", accTot)\n"
   ]
  },
  {
   "cell_type": "code",
   "execution_count": 33,
   "id": "79798248-189a-48f3-ab3f-39bcaf3a9620",
   "metadata": {},
   "outputs": [
    {
     "name": "stdout",
     "output_type": "stream",
     "text": [
      "(4,)\n"
     ]
    },
    {
     "name": "stderr",
     "output_type": "stream",
     "text": [
      "/tmp/ipykernel_73/3621360310.py:1: VisibleDeprecationWarning: Creating an ndarray from ragged nested sequences (which is a list-or-tuple of lists-or-tuples-or ndarrays with different lengths or shapes) is deprecated. If you meant to do this, you must specify 'dtype=object' when creating the ndarray.\n",
      "  print(np.array(ws).shape)\n"
     ]
    }
   ],
   "source": [
    "print(np.array(ws).shape)"
   ]
  },
  {
   "cell_type": "code",
   "execution_count": null,
   "id": "ae72840e-5cfd-4982-8ec5-a684aec49857",
   "metadata": {},
   "outputs": [],
   "source": []
  }
 ],
 "metadata": {
  "kernelspec": {
   "display_name": "Python",
   "language": "python",
   "name": "python3"
  },
  "language_info": {
   "codemirror_mode": {
    "name": "ipython",
    "version": 3
   },
   "file_extension": ".py",
   "mimetype": "text/x-python",
   "name": "python",
   "nbconvert_exporter": "python",
   "pygments_lexer": "ipython3",
   "version": "3.8.10"
  }
 },
 "nbformat": 4,
 "nbformat_minor": 5
}
