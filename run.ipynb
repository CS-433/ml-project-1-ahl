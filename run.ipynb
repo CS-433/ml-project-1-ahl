{
 "cells": [
  {
   "cell_type": "code",
   "execution_count": null,
   "id": "882a9018-5319-4a82-87e7-2b0d420475bb",
   "metadata": {},
   "outputs": [],
   "source": [
    "#test"
   ]
  },
  {
   "cell_type": "code",
   "execution_count": 1,
   "id": "6d56f0e3-9ee7-448f-a9dd-dd349209cc8b",
   "metadata": {},
   "outputs": [],
   "source": [
    "# testing the mean square sgd \n",
    "import numpy as np \n",
    "from implementations import *\n",
    "\n",
    "y = np.array([[0.1],\n",
    "       [0.3],\n",
    "       [0.5]])\n",
    "tx = np.array([[2.3, 3.2],\n",
    "       [1. , 0.1],\n",
    "       [1.4, 2.3]])\n",
    "initial_w = np.array([[0.5],\n",
    "       [1. ]])\n",
    "\n",
    "MAX_ITERS = 2\n",
    "GAMMA = 0.1\n"
   ]
  },
  {
   "cell_type": "code",
   "execution_count": 2,
   "id": "fa8da103-df5b-4f1e-b595-9ae0cd91750e",
   "metadata": {},
   "outputs": [
    {
     "name": "stdout",
     "output_type": "stream",
     "text": [
      "Gradient Descent(0/1): loss=4.067083333333334\n",
      "Gradient Descent(1/1): loss=0.24939051708333312\n",
      "[[-0.0505865]\n",
      " [ 0.203718 ]]\n",
      "0.24939051708333312\n"
     ]
    }
   ],
   "source": [
    "w, loss = mean_squared_error_gd(y, tx, initial_w, MAX_ITERS, GAMMA)\n",
    "print(w) \n",
    "print(loss)"
   ]
  },
  {
   "cell_type": "code",
   "execution_count": 3,
   "id": "ee145783-1641-4299-89a0-94c35e97976a",
   "metadata": {},
   "outputs": [],
   "source": [
    "# testing mean square sgd\n",
    "y = np.array([[0.1],\n",
    "       [0.3],\n",
    "       [0.5]])\n",
    "tx = np.array([[2.3, 3.2],\n",
    "       [1. , 0.1],\n",
    "       [1.4, 2.3]])\n",
    "initial_w = np.array([[0.5],\n",
    "       [1. ]])"
   ]
  },
  {
   "cell_type": "code",
   "execution_count": 4,
   "id": "8b622086-4d2e-4b2f-9d6d-65f3b64bf577",
   "metadata": {},
   "outputs": [
    {
     "name": "stdout",
     "output_type": "stream",
     "text": [
      "[[0.0630575]\n",
      " [0.39208  ]]\n",
      "2.761837531250002\n"
     ]
    }
   ],
   "source": [
    "w, loss = mean_squared_error_sgd(y[:1], tx[:1], initial_w, MAX_ITERS, GAMMA)\n",
    "print(w)\n",
    "print(loss)"
   ]
  },
  {
   "cell_type": "code",
   "execution_count": null,
   "id": "36187dbd-c6aa-41bd-aa18-6945cca93619",
   "metadata": {},
   "outputs": [],
   "source": []
  }
 ],
 "metadata": {
  "kernelspec": {
   "display_name": "Python",
   "language": "python",
   "name": "python3"
  },
  "language_info": {
   "codemirror_mode": {
    "name": "ipython",
    "version": 3
   },
   "file_extension": ".py",
   "mimetype": "text/x-python",
   "name": "python",
   "nbconvert_exporter": "python",
   "pygments_lexer": "ipython3",
   "version": "3.8.10"
  }
 },
 "nbformat": 4,
 "nbformat_minor": 5
}
