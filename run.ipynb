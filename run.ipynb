{
 "cells": [
  {
   "cell_type": "code",
   "execution_count": 1,
   "id": "882a9018-5319-4a82-87e7-2b0d420475bb",
   "metadata": {},
   "outputs": [],
   "source": [
    "import numpy as np \n",
    "from implementations import *\n",
    "from helpers import *\n",
    "from helper_functions import *\n",
    "from optimization import *"
   ]
  },
  {
   "cell_type": "code",
   "execution_count": 2,
   "id": "6d56f0e3-9ee7-448f-a9dd-dd349209cc8b",
   "metadata": {},
   "outputs": [
    {
     "name": "stdout",
     "output_type": "stream",
     "text": [
      "loading the training dataset\n",
      "training dataset loaded\n"
     ]
    }
   ],
   "source": [
    "# load the training dataset\n",
    "print(\"loading the training dataset\")\n",
    "DATA_TRAIN_PATH = 'train.csv'\n",
    "y_tr, tx_tr, ids_tr = load_csv_data(DATA_TRAIN_PATH)\n",
    "print(\"training dataset loaded\")"
   ]
  },
  {
   "cell_type": "code",
   "execution_count": 3,
   "id": "af90503c-e3fa-4e1b-a222-63ef11b39a80",
   "metadata": {},
   "outputs": [
    {
     "name": "stdout",
     "output_type": "stream",
     "text": [
      "loading the test dataset\n",
      "test dataset loaded\n"
     ]
    }
   ],
   "source": [
    "# load the test dataset\n",
    "print(\"loading the test dataset\")\n",
    "DATA_TEST_PATH = 'test.csv'\n",
    "y_te, tx_te, ids_te = load_csv_data(DATA_TEST_PATH)\n",
    "print(\"test dataset loaded\")"
   ]
  },
  {
   "cell_type": "code",
   "execution_count": 4,
   "id": "fa8da103-df5b-4f1e-b595-9ae0cd91750e",
   "metadata": {},
   "outputs": [
    {
     "name": "stdout",
     "output_type": "stream",
     "text": [
      "the shape of the training y is  (250000,)  and the training tx is  (250000, 30)\n",
      "the shape of the test y is  (568238,)  and the test tx is  (568238, 30)\n"
     ]
    }
   ],
   "source": [
    "# printing the shapes of the arrays\n",
    "print(\"the shape of the training y is \",y_tr.shape,\" and the training tx is \", tx_tr.shape)\n",
    "print(\"the shape of the test y is \",y_te.shape,\" and the test tx is \",tx_te.shape)"
   ]
  },
  {
   "cell_type": "code",
   "execution_count": 5,
   "id": "d6884129-6892-4ec8-bce6-fe61104b9ff5",
   "metadata": {},
   "outputs": [],
   "source": [
    "# testing the mean square gd\n",
    "initial_w = np.zeros(tx_tr.shape[1])\n",
    "max_iters = 500\n",
    "gamma = 0.00008\n",
    "\n",
    "#w, loss = mean_squared_error_gd(y_tr, tx_tr, initial_w, max_iters, gamma)\n",
    "\n",
    "#print(\"end of the mean_squared_error_gd with w=\",w,\" and loss=\", loss)"
   ]
  },
  {
   "cell_type": "code",
   "execution_count": 6,
   "id": "3abc58ab-10d3-4a01-b62a-6e3445c65b5b",
   "metadata": {},
   "outputs": [
    {
     "name": "stdout",
     "output_type": "stream",
     "text": [
      "end of the least_squares with w= [ 8.03494312e-05 -7.20202273e-03 -6.05417273e-03 -5.47559065e-04\n",
      " -1.93874700e-02  4.73451621e-04 -2.60379054e-02  3.25106300e-01\n",
      " -3.80780282e-05 -2.72724919e+00 -2.21220140e-01  9.50794091e-02\n",
      "  6.40351613e-02  2.73550887e+00 -3.31801241e-04 -9.54325120e-04\n",
      "  2.74026561e+00 -5.34164891e-04  9.73498581e-04  3.69225052e-03\n",
      "  3.54487449e-04 -5.43344598e-04 -3.30448035e-01 -1.40800498e-03\n",
      "  8.31432888e-04  1.02117272e-03 -1.68047416e-03 -5.83664818e-03\n",
      " -1.11087997e-02  2.72770912e+00]  and loss= 0.3396868094770935\n"
     ]
    }
   ],
   "source": [
    "# test least square\n",
    "w, loss = least_squares(y_tr, tx_tr)\n",
    "print(\"end of the least_squares with w=\",w,\" and loss=\", loss)"
   ]
  },
  {
   "cell_type": "code",
   "execution_count": 7,
   "id": "f1f09a81-21c9-4587-ba44-9bb03ab90776",
   "metadata": {},
   "outputs": [],
   "source": [
    "# test mean squared error sgd\n",
    "\n",
    "initial_w = np.zeros(tx_tr.shape[1])\n",
    "max_iters = 100\n",
    "gamma = 0.00001\n",
    "\n",
    "#w, loss = mean_squared_error_sgd(y_tr, tx_tr, initial_w, max_iters, gamma)\n",
    "\n",
    "#print(\"end of the mean_squared_error_sgd with w=\",w,\" and loss=\", loss)"
   ]
  },
  {
   "cell_type": "code",
   "execution_count": 7,
   "id": "34c8ae3d-d431-4939-8e10-d0915a0fc194",
   "metadata": {},
   "outputs": [
    {
     "name": "stdout",
     "output_type": "stream",
     "text": [
      "Current lambda=0.0001, the loss=0.33968798676609097\n",
      "Current lambda=0.00013738237958832623, the loss=0.33968803954866844\n",
      "Current lambda=0.00018873918221350977, the loss=0.33968813859041375\n",
      "Current lambda=0.0002592943797404667, the loss=0.3396883245147402\n",
      "Current lambda=0.0003562247890262444, the loss=0.3396886731920951\n",
      "Current lambda=0.0004893900918477494, the loss=0.3396893258059021\n",
      "Current lambda=0.0006723357536499335, the loss=0.33969054373021085\n",
      "Current lambda=0.0009236708571873865, the loss=0.33969280743924646\n",
      "Current lambda=0.0012689610031679222, the loss=0.3396969916896993\n",
      "Current lambda=0.0017433288221999873, the loss=0.33970466833847507\n",
      "Current lambda=0.002395026619987486, the loss=0.3397186122395501\n",
      "Current lambda=0.0032903445623126675, the loss=0.33974360637308687\n",
      "Current lambda=0.004520353656360241, the loss=0.33978763536530615\n",
      "Current lambda=0.006210169418915616, the loss=0.3398634706893294\n",
      "Current lambda=0.008531678524172805, the loss=0.33999040783666146\n",
      "Current lambda=0.011721022975334805, the loss=0.34019545283472974\n",
      "Current lambda=0.01610262027560939, the loss=0.3405126532289999\n",
      "Current lambda=0.02212216291070448, the loss=0.3409789456162246\n",
      "Current lambda=0.03039195382313198, the loss=0.34162564114876065\n",
      "Current lambda=0.041753189365604, the loss=0.34246709117086294\n",
      "Current lambda=0.05736152510448681, the loss=0.34349132395827114\n",
      "Current lambda=0.07880462815669913, the loss=0.34465867526889005\n",
      "Current lambda=0.1082636733874054, the loss=0.34591102937226975\n",
      "Current lambda=0.14873521072935117, the loss=0.34718767370275866\n",
      "Current lambda=0.20433597178569418, the loss=0.34843939327798257\n",
      "Current lambda=0.2807216203941176, the loss=0.3496342050611894\n",
      "Current lambda=0.38566204211634725, the loss=0.35075424601787725\n",
      "Current lambda=0.5298316906283708, the loss=0.351788603311994\n",
      "Current lambda=0.7278953843983146, the loss=0.35272780782090674\n",
      "Current lambda=1.0, the loss=0.3535627339505689\n",
      "best lambda is  0.0001\n",
      "end of the ridge_regression with w= [ 8.06960854e-05 -7.20578084e-03 -6.04517159e-03 -5.52739531e-04\n",
      " -1.94754484e-02  4.73682819e-04 -2.60450820e-02  3.24395228e-01\n",
      " -3.82847694e-05  4.40588717e-03 -2.20862099e-01  9.50768388e-02\n",
      "  6.40870833e-02  3.85465642e-03 -3.32608132e-04 -9.55589083e-04\n",
      "  8.59668812e-03 -5.32284362e-04  9.71536530e-04  3.69559157e-03\n",
      "  3.55703473e-04 -5.43892997e-04 -3.29573140e-01 -1.39974366e-03\n",
      "  8.26957837e-04  1.01646507e-03 -1.67549174e-03 -5.82354748e-03\n",
      " -1.10844940e-02 -3.95386302e-03]  and loss= 0.33968798676609097\n"
     ]
    }
   ],
   "source": [
    "# test ridge regression \n",
    "\n",
    "#initial_w = np.zeros(tx_tr.shape[1])\n",
    "#max_iters = 100\n",
    "#lambda_ = 0.0005\n",
    "\n",
    "#w, loss = ridge_regression(y_tr, tx_tr, lambda_)\n",
    "lambda_ = ridge_regression_best_lambda(y_tr, tx_tr)\n",
    "print(\"best lambda is \",lambda_)\n",
    "w, loss = ridge_regression(y_tr, tx_tr, lambda_)\n",
    "\n",
    "#y_pred = predict(w, tx_te)\n",
    "#y_pred[y_pred==0] = -1\n",
    "\n",
    "#OUTPUT_PATH = 'sample-submission'\n",
    "#create_csv_submission(ids_te, y_pred, OUTPUT_PATH)\n",
    "\n",
    "print(\"end of the ridge_regression with w=\",w,\" and loss=\", loss)"
   ]
  },
  {
   "cell_type": "code",
   "execution_count": null,
   "id": "d5f5c7de-0c97-4975-93cb-71f4916eb96e",
   "metadata": {},
   "outputs": [
    {
     "name": "stdout",
     "output_type": "stream",
     "text": [
      "Preiteration, the loss=265618.8699766104, the grad=-170.99750063180275\n",
      "Current iteration=0, the loss=nan, the grad=1821.1184651771323\n",
      "Current iteration=1, the loss=nan, the grad=815.7386220748331\n",
      "Current iteration=2, the loss=nan, the grad=813.6054342608572\n",
      "Current iteration=3, the loss=nan, the grad=813.0003288530146\n",
      "Current iteration=4, the loss=nan, the grad=812.8209466089727\n",
      "Current iteration=5, the loss=nan, the grad=812.7506651517383\n",
      "Current iteration=6, the loss=nan, the grad=812.7188287533983\n",
      "Current iteration=7, the loss=nan, the grad=812.7003201401884\n",
      "Current iteration=8, the loss=nan, the grad=812.6915794953517\n",
      "Current iteration=9, the loss=nan, the grad=812.6865340279271\n",
      "Current iteration=10, the loss=nan, the grad=812.6832479751233\n",
      "Current iteration=11, the loss=nan, the grad=812.6810870823336\n",
      "Current iteration=12, the loss=nan, the grad=812.6797985431555\n",
      "Current iteration=13, the loss=nan, the grad=812.678601503909\n",
      "Current iteration=14, the loss=nan, the grad=812.6778269222888\n",
      "Current iteration=15, the loss=nan, the grad=812.6772109091302\n",
      "Current iteration=16, the loss=nan, the grad=812.6766505546568\n",
      "Current iteration=17, the loss=nan, the grad=812.6763346266384\n",
      "Current iteration=18, the loss=nan, the grad=812.6760103848716\n",
      "Current iteration=19, the loss=nan, the grad=812.6758206561819\n",
      "Current iteration=20, the loss=nan, the grad=812.6756441394302\n",
      "Current iteration=21, the loss=nan, the grad=812.675497701842\n",
      "Current iteration=22, the loss=nan, the grad=812.6753979617931\n",
      "Current iteration=23, the loss=nan, the grad=812.6753242157214\n",
      "Current iteration=24, the loss=nan, the grad=812.6751998294986\n",
      "Current iteration=25, the loss=nan, the grad=812.6751460123052\n",
      "Current iteration=26, the loss=nan, the grad=812.6750851224252\n",
      "Current iteration=27, the loss=nan, the grad=812.6750280310421\n",
      "Current iteration=28, the loss=nan, the grad=812.6749722932477\n",
      "Current iteration=29, the loss=nan, the grad=812.6749093386751\n",
      "Current iteration=30, the loss=nan, the grad=812.6748634339243\n",
      "Current iteration=31, the loss=nan, the grad=812.67483150469\n",
      "Current iteration=32, the loss=nan, the grad=812.6748111484064\n",
      "Current iteration=33, the loss=nan, the grad=812.6748028599512\n",
      "Current iteration=34, the loss=nan, the grad=812.6747660918696\n",
      "Current iteration=35, the loss=nan, the grad=812.6747214931867\n",
      "Current iteration=36, the loss=nan, the grad=812.6747016225576\n",
      "Current iteration=37, the loss=nan, the grad=812.6746682074291\n",
      "Current iteration=38, the loss=nan, the grad=812.674623777697\n",
      "Current iteration=39, the loss=nan, the grad=812.6745662869901\n",
      "Current iteration=40, the loss=nan, the grad=812.6745400937206\n",
      "Current iteration=41, the loss=nan, the grad=812.6745314292214\n"
     ]
    },
    {
     "name": "stderr",
     "output_type": "stream",
     "text": [
      "\n",
      "KeyboardInterrupt\n",
      "\n"
     ]
    }
   ],
   "source": [
    "# test logistic regression\n",
    "\n",
    "initial_w = np.zeros(tx_tr.shape[1])\n",
    "# initial_w = w\n",
    "max_iters = 200\n",
    "gamma = 0.01\n",
    "\n",
    "w, loss = logistic_regression(y_tr, tx_tr, initial_w, max_iters, gamma)\n",
    "\n",
    "print(\"end of the logistic_regression with w=\",w,\" and loss=\", loss)"
   ]
  },
  {
   "cell_type": "code",
   "execution_count": 23,
   "id": "0b54129f-2e9e-489f-989e-cffe093f018d",
   "metadata": {},
   "outputs": [
    {
     "name": "stdout",
     "output_type": "stream",
     "text": [
      "[105.012 46.524 73.752 38.468 -999.000 -999.000 -999.000 2.492 12.316\n",
      " 120.665 1.280 -0.356 -999.000 31.804 -0.023 -0.033 40.516 -0.045 0.086\n",
      " 34.802 -0.024 179.739 1.000 38.960 -1.872 -2.093 -999.000 -999.000\n",
      " -999.000 40.513]\n",
      "[-49.023 49.240 81.182 57.896 -708.421 -601.237 -709.357 2.373 18.917\n",
      " 158.432 1.438 -0.128 -708.985 38.707 -0.011 -0.008 46.660 -0.020 0.044\n",
      " 41.717 -0.010 209.797 0.979 -348.330 -399.254 -399.260 -692.381 -709.122\n",
      " -709.119 73.065]\n",
      "(array([ 4,  5,  6, 12, 26, 27, 28]),)\n",
      "index : 4\n",
      "177457\n",
      "index : 5\n",
      "177457\n",
      "index : 6\n",
      "177457\n",
      "index : 12\n",
      "177457\n",
      "index : 26\n",
      "177457\n",
      "index : 27\n",
      "177457\n",
      "index : 28\n",
      "177457\n",
      "counts of each column  [177457, 177457, 177457, 177457, 177457, 177457, 177457]\n"
     ]
    }
   ],
   "source": [
    "#clean column , remove column that has only -999 elements. \n",
    "np.set_printoptions(formatter={'float': lambda x: \"{0:0.3f}\".format(x)})\n",
    "\n",
    "median = np.median(tx_tr, axis=0) \n",
    "mean = np.mean(tx_tr, axis=0) \n",
    "\n",
    "print(median)\n",
    "print(mean)\n",
    "\n",
    "indx = np.where(median == -999)\n",
    "print(indx)\n",
    "\n",
    "counts = []\n",
    "count = 0\n",
    "\n",
    "for i in indx[0]: \n",
    "    count = np.count_nonzero( tx_tr[:,i] == -999)\n",
    "    print(\"index :\", i)\n",
    "    print(count)\n",
    "    counts.append(count)\n",
    "\n",
    "print(\"counts of each column \", counts)"
   ]
  },
  {
   "cell_type": "code",
   "execution_count": 27,
   "id": "cd948ae1-5376-46f3-b929-6d5d233f0bf4",
   "metadata": {},
   "outputs": [
    {
     "name": "stdout",
     "output_type": "stream",
     "text": [
      "(7,)\n",
      "(250000, 30)\n",
      "(250000, 23)\n"
     ]
    }
   ],
   "source": [
    "median = np.median(tx_tr, axis=0) \n",
    "indx = np.where(median == -999)\n",
    "tx1 = np.delete(tx_tr, indx[0], 1)\n",
    "print(indx[0].shape)\n",
    "print(tx_tr.shape)\n",
    "print(tx1.shape)"
   ]
  },
  {
   "cell_type": "code",
   "execution_count": null,
   "id": "f062a94a-ff3d-4d4d-88b2-66b0ca8bf65c",
   "metadata": {},
   "outputs": [],
   "source": []
  }
 ],
 "metadata": {
  "kernelspec": {
   "display_name": "Python",
   "language": "python",
   "name": "python3"
  },
  "language_info": {
   "codemirror_mode": {
    "name": "ipython",
    "version": 3
   },
   "file_extension": ".py",
   "mimetype": "text/x-python",
   "name": "python",
   "nbconvert_exporter": "python",
   "pygments_lexer": "ipython3",
   "version": "3.8.10"
  }
 },
 "nbformat": 4,
 "nbformat_minor": 5
}
